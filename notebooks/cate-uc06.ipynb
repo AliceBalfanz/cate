{
 "cells": [
  {
   "cell_type": "markdown",
   "metadata": {},
   "source": [
    "# Use Case 6 - Teleconnection explorer\n",
    "\n",
    "## Problem definition\n",
    "\n",
    "As part of a project on climatic teleconnection, a student investigates how El Niño-Southern Oscillation (ENSO) relates to monsoon rainfall. A result could be a plot showing the sliding correlation between Indian Summer Monsoon Rainfall (ISMR) and SST anomalies [RD-4]. A more sophisticated version of this task would be to calculate the Multivariate ENSO Index (MEI, [RD-5], [RD-6]). Additionally, also the comparison of the ENSO index with other CCI datasets (e.g. Cloud, Fire) would be interesting.\n",
    "\n",
    "## Required toolbox features\n",
    "\n",
    "- Access to and ingestion of ESA CCI SST and Soil Moisture data\n",
    "- Geometric adjustments\n",
    "- Spatial and temporal filtering and subsetting for both data sets\n",
    "- Calculation of anomalies and statistical quantities\n",
    "- Visual presentation of statistical results and time series\n",
    "- ENSO index calculation from SST data\n",
    "- Calculation of the absolute anomaly on the log transformed soil moisture data\n",
    "- Calculation of the correlation between the two time series with a lag of 30 days\n",
    "- Generation of a correlation map and export of the correlation data\n",
    "- Generation of a time series plot of the correlation by the selection of a location in South East Asia\n",
    "- Saving of the image and the underlying data"
   ]
  },
  {
   "cell_type": "markdown",
   "metadata": {},
   "source": [
    "# Ingest data, spatial and temporal subsetting, variable selection\n",
    "\n",
    "To reduce the amount of data to download and later work with, it is beneficial to do spatial and temporal subsetting, as well as variable selection as early in the workflow pipeline as possible. Cate supports these operations at download time, or when opening a dataset."
   ]
  },
  {
   "cell_type": "code",
   "execution_count": 1,
   "metadata": {
    "collapsed": true
   },
   "outputs": [],
   "source": [
    "from cate.core.ds import DATA_STORE_REGISTRY\n",
    "import cate.ops as ops\n",
    "from cate.util import ConsoleMonitor"
   ]
  },
  {
   "cell_type": "code",
   "execution_count": 2,
   "metadata": {
    "collapsed": true
   },
   "outputs": [],
   "source": [
    "monitor = ConsoleMonitor()"
   ]
  },
  {
   "cell_type": "code",
   "execution_count": 3,
   "metadata": {
    "collapsed": true
   },
   "outputs": [],
   "source": [
    "data_store = DATA_STORE_REGISTRY.get_data_store('esa_cci_odp')"
   ]
  },
  {
   "cell_type": "code",
   "execution_count": 4,
   "metadata": {},
   "outputs": [
    {
     "data": {
      "text/plain": [
       "[esacci.SOILMOISTURE.day.L3S.SSMV.multi-sensor.multi-platform.COMBINED.02-2.r1,\n",
       " esacci.SOILMOISTURE.day.L3S.SSMV.multi-sensor.multi-platform.PASSIVE.02-2.r1,\n",
       " esacci.SOILMOISTURE.day.L3S.SSMS.multi-sensor.multi-platform.ACTIVE.02-2.r1,\n",
       " esacci.SOILMOISTURE.day.L3S.SSMV.multi-sensor.multi-platform.COMBINED.02-1.r1,\n",
       " esacci.SOILMOISTURE.day.L3S.SSMV.multi-sensor.multi-platform.PASSIVE.02-1.r1,\n",
       " esacci.SOILMOISTURE.day.L3S.SSMS.multi-sensor.multi-platform.ACTIVE.02-1.r1]"
      ]
     },
     "execution_count": 4,
     "metadata": {},
     "output_type": "execute_result"
    }
   ],
   "source": [
    "soil_sources = data_store.query('soil')\n",
    "soil_sources"
   ]
  },
  {
   "cell_type": "code",
   "execution_count": 5,
   "metadata": {},
   "outputs": [
    {
     "data": {
      "text/plain": [
       "OrderedDict([('cci_project', 'SOILMOISTURE'),\n",
       "             ('data_type', 'SSMV'),\n",
       "             ('number_of_aggregations', 0),\n",
       "             ('number_of_files', 13210),\n",
       "             ('platform_id', 'multi-platform'),\n",
       "             ('processing_level', 'L3S'),\n",
       "             ('product_string', 'COMBINED'),\n",
       "             ('product_version', '02-2'),\n",
       "             ('project', 'esacci'),\n",
       "             ('realization', 'r1'),\n",
       "             ('sensor_id', 'multi-sensor'),\n",
       "             ('size', 6648846234),\n",
       "             ('time_frequency', 'day'),\n",
       "             ('version', '20160909'),\n",
       "             ('protocols', ['HTTPServer', 'OPENDAP']),\n",
       "             ('variables',\n",
       "              [{'long_name': 'Day(100) or Night(110) Flag',\n",
       "                'name': 'dnflag',\n",
       "                'standard_name': 'day(100)_or_night(110)_flag',\n",
       "                'units': 'None'},\n",
       "               {'long_name': 'Flag',\n",
       "                'name': 'flag',\n",
       "                'standard_name': 'flag',\n",
       "                'units': 'None'},\n",
       "               {'long_name': 'Frequency Band',\n",
       "                'name': 'freqband',\n",
       "                'standard_name': 'frequency_band',\n",
       "                'units': 'None'},\n",
       "               {'long_name': 'Satellite Mode',\n",
       "                'name': 'mode',\n",
       "                'standard_name': 'satellite_mode',\n",
       "                'units': 'None'},\n",
       "               {'long_name': 'Sensor',\n",
       "                'name': 'sensor',\n",
       "                'standard_name': 'sensor',\n",
       "                'units': 'None'},\n",
       "               {'long_name': 'Volumetric Soil Moisture',\n",
       "                'name': 'sm',\n",
       "                'standard_name': 'volumetric_soil_moisture',\n",
       "                'units': 'm3 m-3'},\n",
       "               {'long_name': 'Volumetric Soil Moisture Uncertainty',\n",
       "                'name': 'sm_uncertainty',\n",
       "                'standard_name': 'volumetric_soil_moisture_uncertainty',\n",
       "                'units': 'm3 m-3'},\n",
       "               {'long_name': 'Observation Timestamp',\n",
       "                'name': 't0',\n",
       "                'standard_name': 'observation_timestamp',\n",
       "                'units': 'days since 1970-01-01 00:00:00 UTC'}])])"
      ]
     },
     "execution_count": 5,
     "metadata": {},
     "output_type": "execute_result"
    }
   ],
   "source": [
    "soil_sources[0].meta_info"
   ]
  },
  {
   "cell_type": "code",
   "execution_count": 6,
   "metadata": {},
   "outputs": [
    {
     "name": "stdout",
     "output_type": "stream",
     "text": [
      "Help on method make_local in module cate.ds.esa_cci_odp:\n",
      "\n",
      "make_local(local_name:str, local_id:str=None, time_range:Union[Tuple[str, str], Tuple[datetime.datetime, datetime.datetime], Tuple[datetime.date, datetime.date], str]=None, region:Union[shapely.geometry.polygon.Polygon, List[Tuple[float, float]], str, Tuple[float, float, float, float]]=None, var_names:Union[List[str], str]=None, monitor:cate.util.monitor.Monitor=Monitor.NONE) -> 'DataSource' method of cate.ds.esa_cci_odp.EsaCciOdpDataSource instance\n",
      "    Turns this (likely remote) data source into a local data source given a name and a number of\n",
      "    optional constraints.\n",
      "    \n",
      "    If this is a remote data source, data will be downloaded and turned into a local data source which will\n",
      "    be added to the data store named \"local\".\n",
      "    \n",
      "    If this is already a local data source, a new local data source will be created by copying\n",
      "    required data or data subsets.\n",
      "    \n",
      "    The method returns the newly create local data source.\n",
      "    \n",
      "    :param local_name: A human readable name for the new local data source.\n",
      "    :param local_id: A unique ID to be used for the new local data source.\n",
      "           If not given, a new ID will be generated.\n",
      "    :param time_range: An optional time constraint comprising start and end date.\n",
      "           If given, it must be a :py:class:`TimeRangeLike`.\n",
      "    :param region: An optional region constraint.\n",
      "           If given, it must be a :py:class:`PolygonLike`.\n",
      "    :param var_names: Optional names of variables to be included.\n",
      "           If given, it must be a :py:class:`VarNamesLike`.\n",
      "    :param monitor: a progress monitor.\n",
      "    :return: the new local data source\n",
      "\n"
     ]
    }
   ],
   "source": [
    "help(soil_sources[0].make_local)"
   ]
  },
  {
   "cell_type": "code",
   "execution_count": 8,
   "metadata": {},
   "outputs": [
    {
     "ename": "ValueError",
     "evalue": "Local data store 'local' already contains a data source named 'local.soil.combined.day'",
     "output_type": "error",
     "traceback": [
      "\u001b[0;31m---------------------------------------------------------------------------\u001b[0m",
      "\u001b[0;31mValueError\u001b[0m                                Traceback (most recent call last)",
      "\u001b[0;32m<ipython-input-8-3aed170a8574>\u001b[0m in \u001b[0;36m<module>\u001b[0;34m()\u001b[0m\n\u001b[1;32m      4\u001b[0m                            \u001b[0mtime_range\u001b[0m\u001b[0;34m=\u001b[0m\u001b[0;34m'2007-01-01, 2010-12-31'\u001b[0m\u001b[0;34m,\u001b[0m\u001b[0;34m\u001b[0m\u001b[0m\n\u001b[1;32m      5\u001b[0m                            \u001b[0mvar_names\u001b[0m\u001b[0;34m=\u001b[0m\u001b[0;34m'sm, sm_uncertainty'\u001b[0m\u001b[0;34m,\u001b[0m\u001b[0;34m\u001b[0m\u001b[0m\n\u001b[0;32m----> 6\u001b[0;31m                            monitor=monitor)\n\u001b[0m",
      "\u001b[0;32m/home/ccitbx/Development/cate-core/cate/ds/esa_cci_odp.py\u001b[0m in \u001b[0;36mmake_local\u001b[0;34m(self, local_name, local_id, time_range, region, var_names, monitor)\u001b[0m\n\u001b[1;32m    803\u001b[0m             \u001b[0;32mraise\u001b[0m \u001b[0mValueError\u001b[0m\u001b[0;34m(\u001b[0m\u001b[0;34m'Cannot initialize `local` DataStore'\u001b[0m\u001b[0;34m)\u001b[0m\u001b[0;34m\u001b[0m\u001b[0m\n\u001b[1;32m    804\u001b[0m \u001b[0;34m\u001b[0m\u001b[0m\n\u001b[0;32m--> 805\u001b[0;31m         \u001b[0mlocal_ds\u001b[0m \u001b[0;34m=\u001b[0m \u001b[0mlocal_store\u001b[0m\u001b[0;34m.\u001b[0m\u001b[0mcreate_data_source\u001b[0m\u001b[0;34m(\u001b[0m\u001b[0mlocal_name\u001b[0m\u001b[0;34m,\u001b[0m \u001b[0mregion\u001b[0m\u001b[0;34m,\u001b[0m \u001b[0m_REFERENCE_DATA_SOURCE_TYPE\u001b[0m\u001b[0;34m,\u001b[0m \u001b[0mself\u001b[0m\u001b[0;34m.\u001b[0m\u001b[0mname\u001b[0m\u001b[0;34m)\u001b[0m\u001b[0;34m\u001b[0m\u001b[0m\n\u001b[0m\u001b[1;32m    806\u001b[0m         \u001b[0mself\u001b[0m\u001b[0;34m.\u001b[0m\u001b[0m_make_local\u001b[0m\u001b[0;34m(\u001b[0m\u001b[0mlocal_ds\u001b[0m\u001b[0;34m,\u001b[0m \u001b[0mtime_range\u001b[0m\u001b[0;34m,\u001b[0m \u001b[0mregion\u001b[0m\u001b[0;34m,\u001b[0m \u001b[0mvar_names\u001b[0m\u001b[0;34m,\u001b[0m \u001b[0mmonitor\u001b[0m\u001b[0;34m)\u001b[0m\u001b[0;34m\u001b[0m\u001b[0m\n\u001b[1;32m    807\u001b[0m         \u001b[0;32mreturn\u001b[0m \u001b[0mlocal_ds\u001b[0m\u001b[0;34m\u001b[0m\u001b[0m\n",
      "\u001b[0;32m/home/ccitbx/Development/cate-core/cate/ds/local.py\u001b[0m in \u001b[0;36mcreate_data_source\u001b[0;34m(self, name, region, reference_type, reference_name)\u001b[0m\n\u001b[1;32m    547\u001b[0m             \u001b[0;32mif\u001b[0m \u001b[0mds\u001b[0m\u001b[0;34m.\u001b[0m\u001b[0mname\u001b[0m \u001b[0;34m==\u001b[0m \u001b[0mname\u001b[0m\u001b[0;34m:\u001b[0m\u001b[0;34m\u001b[0m\u001b[0m\n\u001b[1;32m    548\u001b[0m                 raise ValueError(\n\u001b[0;32m--> 549\u001b[0;31m                     \"Local data store '%s' already contains a data source named '%s'\" % (self.name, name))\n\u001b[0m\u001b[1;32m    550\u001b[0m         data_source = LocalDataSource(name, files=[], data_store=self, spatial_coverage=region,\n\u001b[1;32m    551\u001b[0m                                       reference_type=reference_type, reference_name=reference_name)\n",
      "\u001b[0;31mValueError\u001b[0m: Local data store 'local' already contains a data source named 'local.soil.combined.day'"
     ]
    }
   ],
   "source": [
    "s_india = '72, 8, 85, 17' # 'lon_min, lat_min, lon_max, lat_max'\n",
    "soil_sources[0].make_local(local_name='soil.combined.day',\n",
    "                           region=s_india,\n",
    "                           time_range='2007-01-01, 2010-12-31',\n",
    "                           var_names='sm, sm_uncertainty',\n",
    "                           monitor=monitor)"
   ]
  },
  {
   "cell_type": "code",
   "execution_count": null,
   "metadata": {
    "collapsed": true
   },
   "outputs": [],
   "source": []
  }
 ],
 "metadata": {
  "kernelspec": {
   "display_name": "Python 3",
   "language": "python",
   "name": "python3"
  },
  "language_info": {
   "codemirror_mode": {
    "name": "ipython",
    "version": 3
   },
   "file_extension": ".py",
   "mimetype": "text/x-python",
   "name": "python",
   "nbconvert_exporter": "python",
   "pygments_lexer": "ipython3",
   "version": "3.5.3"
  }
 },
 "nbformat": 4,
 "nbformat_minor": 2
}
