{
 "cells": [
  {
   "cell_type": "markdown",
   "metadata": {},
   "source": [
    "# Use Case 6 - Teleconnection explorer\n",
    "\n",
    "## Problem definition\n",
    "\n",
    "As part of a project on climatic teleconnection, a student investigates how El Niño-Southern Oscillation (ENSO) relates to monsoon rainfall. A result could be a plot showing the sliding correlation between Indian Summer Monsoon Rainfall (ISMR) and SST anomalies [RD-4]. A more sophisticated version of this task would be to calculate the Multivariate ENSO Index (MEI, [RD-5], [RD-6]). Additionally, also the comparison of the ENSO index with other CCI datasets (e.g. Cloud, Fire) would be interesting.\n",
    "\n",
    "## Required toolbox features\n",
    "\n",
    "- Access to and ingestion of ESA CCI SST and Soil Moisture data\n",
    "- Geometric adjustments\n",
    "- Spatial and temporal filtering and subsetting for both data sets\n",
    "- Calculation of anomalies and statistical quantities\n",
    "- Visual presentation of statistical results and time series\n",
    "- ENSO index calculation from SST data\n",
    "- Calculation of the absolute anomaly on the log transformed soil moisture data\n",
    "- Calculation of the correlation between the two time series with a lag of 30 days\n",
    "- Generation of a correlation map and export of the correlation data\n",
    "- Generation of a time series plot of the correlation by the selection of a location in South East Asia\n",
    "- Saving of the image and the underlying data"
   ]
  },
  {
   "cell_type": "markdown",
   "metadata": {},
   "source": [
    "# Ingest data, spatial and temporal subsetting, variable selection\n",
    "\n",
    "To reduce the amount of data to download and later work with, it is beneficial to do spatial and temporal subsetting, as well as variable selection as early in the workflow pipeline as possible. Cate supports these operations at download time, or when opening a dataset."
   ]
  },
  {
   "cell_type": "code",
   "execution_count": null,
   "metadata": {
    "collapsed": true
   },
   "outputs": [],
   "source": [
    "from cate.core.ds import DATA_STORE_REGISTRY\n",
    "import cate.ops as ops\n",
    "from cate.util import ConsoleMonitor"
   ]
  },
  {
   "cell_type": "code",
   "execution_count": null,
   "metadata": {
    "collapsed": true
   },
   "outputs": [],
   "source": [
    "monitor = ConsoleMonitor()"
   ]
  },
  {
   "cell_type": "code",
   "execution_count": null,
   "metadata": {
    "collapsed": true
   },
   "outputs": [],
   "source": [
    "data_store = DATA_STORE_REGISTRY.get_data_store('esa_cci_odp')\n",
    "local_store = DATA_STORE_REGISTRY.get_data_store('local')"
   ]
  },
  {
   "cell_type": "code",
   "execution_count": null,
   "metadata": {},
   "outputs": [],
   "source": [
    "soil_sources = data_store.query('esacci.SOILMOISTURE.day.L3S.SSMV.multi-sensor.multi-platform.COMBINED.02-2.r1')\n",
    "soil_sources"
   ]
  },
  {
   "cell_type": "code",
   "execution_count": null,
   "metadata": {},
   "outputs": [],
   "source": [
    "local_store"
   ]
  },
  {
   "cell_type": "code",
   "execution_count": null,
   "metadata": {},
   "outputs": [],
   "source": [
    "s_india = '72, 8, 85, 17' # 'lon_min, lat_min, lon_max, lat_max'\n",
    "soil_sources[0].make_local(local_name='soil.combined.day',\n",
    "                           region=s_india,\n",
    "                           time_range='2007-01-01, 2010-12-31',\n",
    "                           var_names='sm, sm_uncertainty',\n",
    "                           monitor=monitor)"
   ]
  },
  {
   "cell_type": "code",
   "execution_count": null,
   "metadata": {
    "collapsed": true
   },
   "outputs": [],
   "source": []
  }
 ],
 "metadata": {
  "kernelspec": {
   "display_name": "Python 3",
   "language": "python",
   "name": "python3"
  },
  "language_info": {
   "codemirror_mode": {
    "name": "ipython",
    "version": 3
   },
   "file_extension": ".py",
   "mimetype": "text/x-python",
   "name": "python",
   "nbconvert_exporter": "python",
   "pygments_lexer": "ipython3",
   "version": "3.6.1"
  }
 },
 "nbformat": 4,
 "nbformat_minor": 2
}
