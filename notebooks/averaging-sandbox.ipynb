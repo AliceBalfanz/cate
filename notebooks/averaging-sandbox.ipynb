{
 "cells": [
  {
   "cell_type": "markdown",
   "metadata": {},
   "source": [
    "### Long Term Average"
   ]
  },
  {
   "cell_type": "code",
   "execution_count": 6,
   "metadata": {
    "collapsed": false
   },
   "outputs": [],
   "source": [
    "from cate.core.ds import DATA_STORE_REGISTRY\n",
    "from cate.core.monitor import ConsoleMonitor\n",
    "import cate.ops as ops\n",
    "from cate.core.util import to_datetime_range\n",
    "\n",
    "import xarray as xr\n",
    "\n",
    "monitor = ConsoleMonitor()"
   ]
  },
  {
   "cell_type": "code",
   "execution_count": 7,
   "metadata": {
    "collapsed": false
   },
   "outputs": [],
   "source": [
    "data_store = DATA_STORE_REGISTRY.get_data_store('esa_cci_odp')"
   ]
  },
  {
   "cell_type": "code",
   "execution_count": 8,
   "metadata": {
    "collapsed": false
   },
   "outputs": [],
   "source": [
    "data_sources = data_store.query('esacci.CLOUD.mon.L3C.CLD_PRODUCTS.AVHRR.NOAA-17.AVHRR_NOAA.1-0.r1')"
   ]
  },
  {
   "cell_type": "code",
   "execution_count": 17,
   "metadata": {
    "collapsed": false
   },
   "outputs": [
    {
     "data": {
      "text/plain": [
       "OrderedDict([(datetime.datetime(2007, 1, 1, 0, 0),\n",
       "              datetime.datetime(2007, 1, 29, 0, 0)),\n",
       "             (datetime.datetime(2007, 2, 1, 0, 0),\n",
       "              datetime.datetime(2007, 3, 29, 0, 0)),\n",
       "             (datetime.datetime(2007, 4, 1, 0, 0),\n",
       "              datetime.datetime(2007, 4, 29, 0, 0)),\n",
       "             (datetime.datetime(2007, 5, 1, 0, 0),\n",
       "              datetime.datetime(2007, 5, 29, 0, 0)),\n",
       "             (datetime.datetime(2007, 6, 1, 0, 0),\n",
       "              datetime.datetime(2007, 6, 29, 0, 0)),\n",
       "             (datetime.datetime(2007, 7, 1, 0, 0),\n",
       "              datetime.datetime(2007, 7, 29, 0, 0)),\n",
       "             (datetime.datetime(2007, 8, 1, 0, 0),\n",
       "              datetime.datetime(2007, 8, 29, 0, 0)),\n",
       "             (datetime.datetime(2007, 9, 1, 0, 0),\n",
       "              datetime.datetime(2007, 9, 29, 0, 0)),\n",
       "             (datetime.datetime(2007, 10, 1, 0, 0),\n",
       "              datetime.datetime(2007, 10, 29, 0, 0)),\n",
       "             (datetime.datetime(2007, 11, 1, 0, 0),\n",
       "              datetime.datetime(2007, 11, 29, 0, 0)),\n",
       "             (datetime.datetime(2007, 12, 1, 0, 0),\n",
       "              datetime.datetime(2007, 12, 29, 0, 0))])"
      ]
     },
     "execution_count": 17,
     "metadata": {},
     "output_type": "execute_result"
    }
   ],
   "source": [
    "data_sources[0].cache_info"
   ]
  },
  {
   "cell_type": "code",
   "execution_count": 14,
   "metadata": {
    "collapsed": false
   },
   "outputs": [],
   "source": [
    "time_range = to_datetime_range('2008-01-01','2008-12-31')"
   ]
  },
  {
   "cell_type": "code",
   "execution_count": 15,
   "metadata": {
    "collapsed": true
   },
   "outputs": [],
   "source": [
    "deleted_nr = data_sources[0].delete_local(time_range)"
   ]
  },
  {
   "cell_type": "code",
   "execution_count": 16,
   "metadata": {
    "collapsed": false
   },
   "outputs": [
    {
     "data": {
      "text/plain": [
       "12"
      ]
     },
     "execution_count": 16,
     "metadata": {},
     "output_type": "execute_result"
    }
   ],
   "source": [
    "deleted_nr"
   ]
  },
  {
   "cell_type": "code",
   "execution_count": null,
   "metadata": {
    "collapsed": true
   },
   "outputs": [],
   "source": []
  },
  {
   "cell_type": "code",
   "execution_count": null,
   "metadata": {
    "collapsed": false
   },
   "outputs": [],
   "source": [
    "data_sources[0]._file_list"
   ]
  },
  {
   "cell_type": "code",
   "execution_count": null,
   "metadata": {
    "collapsed": false,
    "scrolled": false
   },
   "outputs": [],
   "source": [
    "lta = ops.long_term_average('esacci.CLOUD.mon.L3C.CLD_PRODUCTS.AVHRR.NOAA-17.AVHRR_NOAA.1-0.r1', 2007, 2008, \n",
    "                      '/home/ccitbx/Desktop/lta.nc', var='cc*', monitor=monitor)"
   ]
  },
  {
   "cell_type": "code",
   "execution_count": null,
   "metadata": {
    "collapsed": true
   },
   "outputs": [],
   "source": []
  }
 ],
 "metadata": {
  "kernelspec": {
   "display_name": "Python 3",
   "language": "python",
   "name": "python3"
  },
  "language_info": {
   "codemirror_mode": {
    "name": "ipython",
    "version": 3
   },
   "file_extension": ".py",
   "mimetype": "text/x-python",
   "name": "python",
   "nbconvert_exporter": "python",
   "pygments_lexer": "ipython3",
   "version": "3.5.2"
  }
 },
 "nbformat": 4,
 "nbformat_minor": 0
}
