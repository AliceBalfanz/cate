{
 "cells": [
  {
   "cell_type": "markdown",
   "metadata": {},
   "source": [
    "### Long Term Average"
   ]
  },
  {
   "cell_type": "code",
   "execution_count": 1,
   "metadata": {
    "collapsed": false
   },
   "outputs": [],
   "source": [
    "from cate.core.ds import DATA_STORE_REGISTRY\n",
    "from cate.core.monitor import ConsoleMonitor\n",
    "import cate.ops as ops\n",
    "monitor = ConsoleMonitor()"
   ]
  },
  {
   "cell_type": "code",
   "execution_count": 2,
   "metadata": {
    "collapsed": false
   },
   "outputs": [
    {
     "data": {
      "text/plain": [
       "<xarray.Dataset>\n",
       "Dimensions:                          (hist_cot: 7, hist_cot_bin: 6, hist_ctp: 8, hist_ctp_bin: 7, hist_phase: 2, lat: 360, lon: 720, time: 12)\n",
       "Coordinates:\n",
       "  * lat                              (lat) float32 -89.75 -89.25 -88.75 ...\n",
       "  * hist_ctp_bin                     (hist_ctp_bin) float32 1.0 2.0 3.0 4.0 ...\n",
       "  * hist_ctp                         (hist_ctp) float32 1100.0 800.0 680.0 ...\n",
       "  * hist_cot_bin                     (hist_cot_bin) float32 1.0 2.0 3.0 4.0 ...\n",
       "  * hist_phase                       (hist_phase) int32 0 1\n",
       "  * lon                              (lon) float32 -179.75 -179.25 -178.75 ...\n",
       "  * hist_cot                         (hist_cot) float32 0.3 1.3 3.6 9.4 23.0 ...\n",
       "  * time                             (time) float64 2.454e+06 2.454e+06 ...\n",
       "Data variables:\n",
       "    cot_ctp_hist2d                   (time, hist_phase, hist_ctp_bin, hist_cot_bin, lat, lon) float64 0.0 ...\n",
       "    npoints_macro_cct_high_cloudy    (time, lat, lon) float64 0.0 1.0 0.0 ...\n",
       "    npoints_micro_cloudy_ice         (time, lat, lon) float64 0.0 12.0 4.0 ...\n",
       "    cc_low                           (time, lat, lon) float64 0.0 0.0 0.0 ...\n",
       "    ctp_wm                           (time, lat, lon) float64 504.8 516.5 ...\n",
       "    npoints_macro_cct_cloudy         (time, lat, lon) float64 17.0 51.0 42.0 ...\n",
       "    cc_total_wm                      (time, lat, lon) float64 0.0 0.0 0.0 ...\n",
       "    cwp_uncertainty                  (time, lat, lon) float64 34.3 38.02 ...\n",
       "    cph                              (time, lat, lon) float64 1.0 0.7209 ...\n",
       "    npoints_macro_cct_low_cloudy     (time, lat, lon) float64 0.0 0.0 0.0 ...\n",
       "    ctt_std                          (time, lat, lon) float64 2.188 4.546 ...\n",
       "    cot_uncertainty                  (time, lat, lon) float64 42.59 45.19 ...\n",
       "    cth_uncertainty_std              (time, lat, lon) float64 55.28 62.63 ...\n",
       "    ctp_wstd                         (time, lat, lon) float64 23.85 43.58 ...\n",
       "    ref_wm                           (time, lat, lon) float64 35.51 35.66 ...\n",
       "    cc_total_wstd                    (time, lat, lon) float64 0.0 0.0 0.0 ...\n",
       "    cwp_std                          (time, lat, lon) float64 203.6 342.8 ...\n",
       "    ctp_log                          (time, lat, lon) float64 525.5 520.2 ...\n",
       "    npoints_macro_cct_clear          (time, lat, lon) float64 141.0 98.0 ...\n",
       "    cot_wstd                         (time, lat, lon) float64 10.07 8.549 ...\n",
       "    iwp_wstd                         (time, lat, lon) float64 nan 40.46 ...\n",
       "    ref_uncertainty                  (time, lat, lon) float64 0.267 0.4123 ...\n",
       "    iwp                              (time, lat, lon) float64 0.0 37.88 ...\n",
       "    npoints_micro_cloudy             (time, lat, lon) float64 10.0 43.0 33.0 ...\n",
       "    lwp_wm                           (time, lat, lon) float64 101.1 128.5 ...\n",
       "    cth_std                          (time, lat, lon) float64 0.542 0.8527 ...\n",
       "    ctp_med                          (time, lat, lon) float64 531.1 526.7 ...\n",
       "    cwp                              (time, lat, lon) float64 360.2 355.1 ...\n",
       "    ctt_wm                           (time, lat, lon) float64 242.5 242.9 ...\n",
       "    iwp_uncertainty                  (time, lat, lon) float64 0.0 9.116 ...\n",
       "    lwp_std                          (time, lat, lon) float64 203.6 369.8 ...\n",
       "    lwp_wstd                         (time, lat, lon) float64 224.3 210.9 ...\n",
       "    cth_wstd                         (time, lat, lon) float64 0.3696 0.5982 ...\n",
       "    ref_med                          (time, lat, lon) float64 34.98 34.64 ...\n",
       "    cwp_uncertainty_std              (time, lat, lon) float64 158.1 431.5 ...\n",
       "    cot_wm                           (time, lat, lon) float64 5.174 5.283 ...\n",
       "    ctt_uncertainty_std              (time, lat, lon) float64 837.9 908.8 ...\n",
       "    cth_uncertainty                  (time, lat, lon) float64 9.639 4.603 ...\n",
       "    cc_total                         (time, lat, lon) float64 0.1076 0.3423 ...\n",
       "    npoints_micro_clear              (time, lat, lon) float64 148.0 106.0 ...\n",
       "    ctt_med                          (time, lat, lon) float64 242.6 243.4 ...\n",
       "    cc_total_uncertainty             (time, lat, lon) float64 0.0 0.0 0.0 ...\n",
       "    ctp_uncertainty_std              (time, lat, lon) float64 3.138e+03 ...\n",
       "    ctt_wstd                         (time, lat, lon) float64 2.351 4.437 ...\n",
       "    cwp_med                          (time, lat, lon) float64 434.5 364.5 ...\n",
       "    cth                              (time, lat, lon) float64 4.721 4.783 ...\n",
       "    cc_middle                        (time, lat, lon) float64 0.1076 0.3356 ...\n",
       "    ctp                              (time, lat, lon) float64 526.9 523.9 ...\n",
       "    ref_std                          (time, lat, lon) float64 5.483 9.31 ...\n",
       "    iwp_uncertainty_std              (time, lat, lon) float64 0.0 151.7 ...\n",
       "    cth_med                          (time, lat, lon) float64 4.65 4.707 ...\n",
       "    ctt_uncertainty                  (time, lat, lon) float64 136.8 55.5 ...\n",
       "    npoints_macro_cloudy             (time, lat, lon) float64 17.0 51.0 42.0 ...\n",
       "    cc_high                          (time, lat, lon) float64 0.0 0.006711 ...\n",
       "    npoints_macro_clear              (time, lat, lon) float64 141.0 98.0 ...\n",
       "    cot_med                          (time, lat, lon) float64 17.8 15.27 ...\n",
       "    ref_wstd                         (time, lat, lon) float64 2.881 5.518 ...\n",
       "    ctp_uncertainty                  (time, lat, lon) float64 505.6 200.8 ...\n",
       "    ctp_std                          (time, lat, lon) float64 39.5 57.18 ...\n",
       "    cwp_wm                           (time, lat, lon) float64 101.1 125.7 ...\n",
       "    iwp_std                          (time, lat, lon) float64 0.0 69.54 ...\n",
       "    cwp_wstd                         (time, lat, lon) float64 224.3 191.2 ...\n",
       "    cth_wm                           (time, lat, lon) float64 5.018 4.826 ...\n",
       "    cot_log                          (time, lat, lon) float64 11.38 11.83 ...\n",
       "    lwp                              (time, lat, lon) float64 360.2 317.3 ...\n",
       "    npoints_micro_cloudy_liq         (time, lat, lon) float64 10.0 31.0 29.0 ...\n",
       "    ctt                              (time, lat, lon) float64 242.8 243.2 ...\n",
       "    cot_uncertainty_std              (time, lat, lon) float64 170.5 409.4 ...\n",
       "    cph_std                          (time, lat, lon) float64 0.0 0.4485 ...\n",
       "    cot_std                          (time, lat, lon) float64 13.83 16.66 ...\n",
       "    lwp_uncertainty                  (time, lat, lon) float64 34.3 28.91 ...\n",
       "    ref                              (time, lat, lon) float64 33.63 31.78 ...\n",
       "    cc_total_uncertainty_std         (time, lat, lon) float64 0.0 0.0 0.0 ...\n",
       "    cot                              (time, lat, lon) float64 17.34 18.1 ...\n",
       "    npoints_macro_cct_middle_cloudy  (time, lat, lon) float64 17.0 50.0 42.0 ...\n",
       "    ref_uncertainty_std              (time, lat, lon) float64 1.347 3.854 ...\n",
       "    lwp_uncertainty_std              (time, lat, lon) float64 158.1 404.6 ...\n",
       "    cc_total_std                     (time, lat, lon) float64 0.3279 0.5844 ...\n",
       "    iwp_wm                           (time, lat, lon) float64 nan 108.6 ..."
      ]
     },
     "execution_count": 2,
     "metadata": {},
     "output_type": "execute_result"
    }
   ],
   "source": [
    "ops.long_term_average('esacci.CLOUD.mon.L3C.CLD_PRODUCTS.AVHRR.NOAA-17.AVHRR_NOAA.1-0.r1', 2007, 2007, \n",
    "                      '/home/ccitbx/Desktop/lta.nc', monitor=monitor)"
   ]
  },
  {
   "cell_type": "code",
   "execution_count": null,
   "metadata": {
    "collapsed": true
   },
   "outputs": [],
   "source": []
  }
 ],
 "metadata": {
  "kernelspec": {
   "display_name": "Python 3",
   "language": "python",
   "name": "python3"
  },
  "language_info": {
   "codemirror_mode": {
    "name": "ipython",
    "version": 3
   },
   "file_extension": ".py",
   "mimetype": "text/x-python",
   "name": "python",
   "nbconvert_exporter": "python",
   "pygments_lexer": "ipython3",
   "version": "3.5.2"
  }
 },
 "nbformat": 4,
 "nbformat_minor": 0
}
