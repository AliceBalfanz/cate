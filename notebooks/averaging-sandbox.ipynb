{
 "cells": [
  {
   "cell_type": "markdown",
   "metadata": {},
   "source": [
    "### Long Term Average"
   ]
  },
  {
   "cell_type": "code",
   "execution_count": 2,
   "metadata": {
    "collapsed": false
   },
   "outputs": [],
   "source": [
    "from cate.core.ds import DATA_STORE_REGISTRY\n",
    "from cate.core.monitor import ConsoleMonitor\n",
    "import cate.ops as ops\n",
    "\n",
    "import xarray as xr\n",
    "\n",
    "monitor = ConsoleMonitor()"
   ]
  },
  {
   "cell_type": "code",
   "execution_count": 3,
   "metadata": {
    "collapsed": false
   },
   "outputs": [],
   "source": [
    "data_store = DATA_STORE_REGISTRY.get_data_store('esa_cci_odp')"
   ]
  },
  {
   "cell_type": "code",
   "execution_count": 6,
   "metadata": {
    "collapsed": false
   },
   "outputs": [],
   "source": [
    "data_sources = data_store.query('esacci.CLOUD.mon.L3C.CLD_PRODUCTS.AVHRR.NOAA-17.AVHRR_NOAA.1-0.r1')"
   ]
  },
  {
   "cell_type": "code",
   "execution_count": 14,
   "metadata": {
    "collapsed": false
   },
   "outputs": [
    {
     "data": {
      "text/plain": [
       "OrderedDict([(datetime.datetime(2007, 1, 1, 0, 0),\n",
       "              datetime.datetime(2007, 1, 29, 0, 0)),\n",
       "             (datetime.datetime(2007, 2, 1, 0, 0),\n",
       "              datetime.datetime(2007, 3, 29, 0, 0)),\n",
       "             (datetime.datetime(2007, 4, 1, 0, 0),\n",
       "              datetime.datetime(2007, 4, 29, 0, 0)),\n",
       "             (datetime.datetime(2007, 5, 1, 0, 0),\n",
       "              datetime.datetime(2007, 5, 29, 0, 0)),\n",
       "             (datetime.datetime(2007, 6, 1, 0, 0),\n",
       "              datetime.datetime(2007, 6, 29, 0, 0)),\n",
       "             (datetime.datetime(2007, 7, 1, 0, 0),\n",
       "              datetime.datetime(2007, 7, 29, 0, 0)),\n",
       "             (datetime.datetime(2007, 8, 1, 0, 0),\n",
       "              datetime.datetime(2007, 8, 29, 0, 0)),\n",
       "             (datetime.datetime(2007, 9, 1, 0, 0),\n",
       "              datetime.datetime(2007, 9, 29, 0, 0)),\n",
       "             (datetime.datetime(2007, 10, 1, 0, 0),\n",
       "              datetime.datetime(2007, 10, 29, 0, 0)),\n",
       "             (datetime.datetime(2007, 11, 1, 0, 0),\n",
       "              datetime.datetime(2007, 11, 29, 0, 0)),\n",
       "             (datetime.datetime(2007, 12, 1, 0, 0),\n",
       "              datetime.datetime(2007, 12, 29, 0, 0)),\n",
       "             (datetime.datetime(2008, 1, 1, 0, 0),\n",
       "              datetime.datetime(2008, 1, 29, 0, 0)),\n",
       "             (datetime.datetime(2008, 2, 1, 0, 0),\n",
       "              datetime.datetime(2008, 2, 29, 0, 0)),\n",
       "             (datetime.datetime(2008, 3, 1, 0, 0),\n",
       "              datetime.datetime(2008, 3, 29, 0, 0)),\n",
       "             (datetime.datetime(2008, 4, 1, 0, 0),\n",
       "              datetime.datetime(2008, 4, 29, 0, 0)),\n",
       "             (datetime.datetime(2008, 5, 1, 0, 0),\n",
       "              datetime.datetime(2008, 5, 29, 0, 0)),\n",
       "             (datetime.datetime(2008, 6, 1, 0, 0),\n",
       "              datetime.datetime(2008, 6, 29, 0, 0)),\n",
       "             (datetime.datetime(2008, 7, 1, 0, 0),\n",
       "              datetime.datetime(2008, 7, 29, 0, 0)),\n",
       "             (datetime.datetime(2008, 8, 1, 0, 0),\n",
       "              datetime.datetime(2008, 8, 29, 0, 0)),\n",
       "             (datetime.datetime(2008, 9, 1, 0, 0),\n",
       "              datetime.datetime(2008, 9, 29, 0, 0)),\n",
       "             (datetime.datetime(2008, 10, 1, 0, 0),\n",
       "              datetime.datetime(2008, 10, 29, 0, 0)),\n",
       "             (datetime.datetime(2008, 11, 1, 0, 0),\n",
       "              datetime.datetime(2008, 11, 29, 0, 0)),\n",
       "             (datetime.datetime(2008, 12, 1, 0, 0),\n",
       "              datetime.datetime(2008, 12, 29, 0, 0)),\n",
       "             (datetime.datetime(2009, 1, 1, 0, 0),\n",
       "              datetime.datetime(2009, 1, 29, 0, 0))])"
      ]
     },
     "execution_count": 14,
     "metadata": {},
     "output_type": "execute_result"
    }
   ],
   "source": [
    "data_sources[0].cache_info"
   ]
  },
  {
   "cell_type": "code",
   "execution_count": 18,
   "metadata": {
    "collapsed": false
   },
   "outputs": [
    {
     "data": {
      "text/plain": [
       "[['200701-ESACCI-L3C_CLOUD-CLD_PRODUCTS-AVHRR_NOAA-17-fv1.0.nc',\n",
       "  datetime.datetime(2007, 1, 1, 0, 0),\n",
       "  datetime.datetime(2007, 1, 29, 0, 0),\n",
       "  167993444,\n",
       "  'http://esgf-data1.ceda.ac.uk/thredds/fileServer/esg_esacci/cloud/data/L3C/avhrr_noaa-17/phase1_v1.0/2007/01/200701-ESACCI-L3C_CLOUD-CLD_PRODUCTS-AVHRR_NOAA-17-fv1.0.nc'],\n",
       " ['200702-ESACCI-L3C_CLOUD-CLD_PRODUCTS-AVHRR_NOAA-17-fv1.0.nc',\n",
       "  datetime.datetime(2007, 2, 1, 0, 0),\n",
       "  datetime.datetime(2007, 3, 1, 0, 0),\n",
       "  167993444,\n",
       "  'http://esgf-data1.ceda.ac.uk/thredds/fileServer/esg_esacci/cloud/data/L3C/avhrr_noaa-17/phase1_v1.0/2007/02/200702-ESACCI-L3C_CLOUD-CLD_PRODUCTS-AVHRR_NOAA-17-fv1.0.nc'],\n",
       " ['200703-ESACCI-L3C_CLOUD-CLD_PRODUCTS-AVHRR_NOAA-17-fv1.0.nc',\n",
       "  datetime.datetime(2007, 3, 1, 0, 0),\n",
       "  datetime.datetime(2007, 3, 29, 0, 0),\n",
       "  167993444,\n",
       "  'http://esgf-data1.ceda.ac.uk/thredds/fileServer/esg_esacci/cloud/data/L3C/avhrr_noaa-17/phase1_v1.0/2007/03/200703-ESACCI-L3C_CLOUD-CLD_PRODUCTS-AVHRR_NOAA-17-fv1.0.nc'],\n",
       " ['200704-ESACCI-L3C_CLOUD-CLD_PRODUCTS-AVHRR_NOAA-17-fv1.0.nc',\n",
       "  datetime.datetime(2007, 4, 1, 0, 0),\n",
       "  datetime.datetime(2007, 4, 29, 0, 0),\n",
       "  167993444,\n",
       "  'http://esgf-data1.ceda.ac.uk/thredds/fileServer/esg_esacci/cloud/data/L3C/avhrr_noaa-17/phase1_v1.0/2007/04/200704-ESACCI-L3C_CLOUD-CLD_PRODUCTS-AVHRR_NOAA-17-fv1.0.nc'],\n",
       " ['200705-ESACCI-L3C_CLOUD-CLD_PRODUCTS-AVHRR_NOAA-17-fv1.0.nc',\n",
       "  datetime.datetime(2007, 5, 1, 0, 0),\n",
       "  datetime.datetime(2007, 5, 29, 0, 0),\n",
       "  167993444,\n",
       "  'http://esgf-data1.ceda.ac.uk/thredds/fileServer/esg_esacci/cloud/data/L3C/avhrr_noaa-17/phase1_v1.0/2007/05/200705-ESACCI-L3C_CLOUD-CLD_PRODUCTS-AVHRR_NOAA-17-fv1.0.nc'],\n",
       " ['200706-ESACCI-L3C_CLOUD-CLD_PRODUCTS-AVHRR_NOAA-17-fv1.0.nc',\n",
       "  datetime.datetime(2007, 6, 1, 0, 0),\n",
       "  datetime.datetime(2007, 6, 29, 0, 0),\n",
       "  167993444,\n",
       "  'http://esgf-data1.ceda.ac.uk/thredds/fileServer/esg_esacci/cloud/data/L3C/avhrr_noaa-17/phase1_v1.0/2007/06/200706-ESACCI-L3C_CLOUD-CLD_PRODUCTS-AVHRR_NOAA-17-fv1.0.nc'],\n",
       " ['200707-ESACCI-L3C_CLOUD-CLD_PRODUCTS-AVHRR_NOAA-17-fv1.0.nc',\n",
       "  datetime.datetime(2007, 7, 1, 0, 0),\n",
       "  datetime.datetime(2007, 7, 29, 0, 0),\n",
       "  167993444,\n",
       "  'http://esgf-data1.ceda.ac.uk/thredds/fileServer/esg_esacci/cloud/data/L3C/avhrr_noaa-17/phase1_v1.0/2007/07/200707-ESACCI-L3C_CLOUD-CLD_PRODUCTS-AVHRR_NOAA-17-fv1.0.nc'],\n",
       " ['200708-ESACCI-L3C_CLOUD-CLD_PRODUCTS-AVHRR_NOAA-17-fv1.0.nc',\n",
       "  datetime.datetime(2007, 8, 1, 0, 0),\n",
       "  datetime.datetime(2007, 8, 29, 0, 0),\n",
       "  167993444,\n",
       "  'http://esgf-data1.ceda.ac.uk/thredds/fileServer/esg_esacci/cloud/data/L3C/avhrr_noaa-17/phase1_v1.0/2007/08/200708-ESACCI-L3C_CLOUD-CLD_PRODUCTS-AVHRR_NOAA-17-fv1.0.nc'],\n",
       " ['200709-ESACCI-L3C_CLOUD-CLD_PRODUCTS-AVHRR_NOAA-17-fv1.0.nc',\n",
       "  datetime.datetime(2007, 9, 1, 0, 0),\n",
       "  datetime.datetime(2007, 9, 29, 0, 0),\n",
       "  167993444,\n",
       "  'http://esgf-data1.ceda.ac.uk/thredds/fileServer/esg_esacci/cloud/data/L3C/avhrr_noaa-17/phase1_v1.0/2007/09/200709-ESACCI-L3C_CLOUD-CLD_PRODUCTS-AVHRR_NOAA-17-fv1.0.nc'],\n",
       " ['200710-ESACCI-L3C_CLOUD-CLD_PRODUCTS-AVHRR_NOAA-17-fv1.0.nc',\n",
       "  datetime.datetime(2007, 10, 1, 0, 0),\n",
       "  datetime.datetime(2007, 10, 29, 0, 0),\n",
       "  167993444,\n",
       "  'http://esgf-data1.ceda.ac.uk/thredds/fileServer/esg_esacci/cloud/data/L3C/avhrr_noaa-17/phase1_v1.0/2007/10/200710-ESACCI-L3C_CLOUD-CLD_PRODUCTS-AVHRR_NOAA-17-fv1.0.nc'],\n",
       " ['200711-ESACCI-L3C_CLOUD-CLD_PRODUCTS-AVHRR_NOAA-17-fv1.0.nc',\n",
       "  datetime.datetime(2007, 11, 1, 0, 0),\n",
       "  datetime.datetime(2007, 11, 29, 0, 0),\n",
       "  167993444,\n",
       "  'http://esgf-data1.ceda.ac.uk/thredds/fileServer/esg_esacci/cloud/data/L3C/avhrr_noaa-17/phase1_v1.0/2007/11/200711-ESACCI-L3C_CLOUD-CLD_PRODUCTS-AVHRR_NOAA-17-fv1.0.nc'],\n",
       " ['200712-ESACCI-L3C_CLOUD-CLD_PRODUCTS-AVHRR_NOAA-17-fv1.0.nc',\n",
       "  datetime.datetime(2007, 12, 1, 0, 0),\n",
       "  datetime.datetime(2007, 12, 29, 0, 0),\n",
       "  167993444,\n",
       "  'http://esgf-data1.ceda.ac.uk/thredds/fileServer/esg_esacci/cloud/data/L3C/avhrr_noaa-17/phase1_v1.0/2007/12/200712-ESACCI-L3C_CLOUD-CLD_PRODUCTS-AVHRR_NOAA-17-fv1.0.nc'],\n",
       " ['200801-ESACCI-L3C_CLOUD-CLD_PRODUCTS-AVHRR_NOAA-17-fv1.0.nc',\n",
       "  datetime.datetime(2008, 1, 1, 0, 0),\n",
       "  datetime.datetime(2008, 1, 29, 0, 0),\n",
       "  167993444,\n",
       "  'http://esgf-data1.ceda.ac.uk/thredds/fileServer/esg_esacci/cloud/data/L3C/avhrr_noaa-17/phase1_v1.0/2008/01/200801-ESACCI-L3C_CLOUD-CLD_PRODUCTS-AVHRR_NOAA-17-fv1.0.nc'],\n",
       " ['200802-ESACCI-L3C_CLOUD-CLD_PRODUCTS-AVHRR_NOAA-17-fv1.0.nc',\n",
       "  datetime.datetime(2008, 2, 1, 0, 0),\n",
       "  datetime.datetime(2008, 2, 29, 0, 0),\n",
       "  167993444,\n",
       "  'http://esgf-data1.ceda.ac.uk/thredds/fileServer/esg_esacci/cloud/data/L3C/avhrr_noaa-17/phase1_v1.0/2008/02/200802-ESACCI-L3C_CLOUD-CLD_PRODUCTS-AVHRR_NOAA-17-fv1.0.nc'],\n",
       " ['200803-ESACCI-L3C_CLOUD-CLD_PRODUCTS-AVHRR_NOAA-17-fv1.0.nc',\n",
       "  datetime.datetime(2008, 3, 1, 0, 0),\n",
       "  datetime.datetime(2008, 3, 29, 0, 0),\n",
       "  167993444,\n",
       "  'http://esgf-data1.ceda.ac.uk/thredds/fileServer/esg_esacci/cloud/data/L3C/avhrr_noaa-17/phase1_v1.0/2008/03/200803-ESACCI-L3C_CLOUD-CLD_PRODUCTS-AVHRR_NOAA-17-fv1.0.nc'],\n",
       " ['200804-ESACCI-L3C_CLOUD-CLD_PRODUCTS-AVHRR_NOAA-17-fv1.0.nc',\n",
       "  datetime.datetime(2008, 4, 1, 0, 0),\n",
       "  datetime.datetime(2008, 4, 29, 0, 0),\n",
       "  167993444,\n",
       "  'http://esgf-data1.ceda.ac.uk/thredds/fileServer/esg_esacci/cloud/data/L3C/avhrr_noaa-17/phase1_v1.0/2008/04/200804-ESACCI-L3C_CLOUD-CLD_PRODUCTS-AVHRR_NOAA-17-fv1.0.nc'],\n",
       " ['200805-ESACCI-L3C_CLOUD-CLD_PRODUCTS-AVHRR_NOAA-17-fv1.0.nc',\n",
       "  datetime.datetime(2008, 5, 1, 0, 0),\n",
       "  datetime.datetime(2008, 5, 29, 0, 0),\n",
       "  167993444,\n",
       "  'http://esgf-data1.ceda.ac.uk/thredds/fileServer/esg_esacci/cloud/data/L3C/avhrr_noaa-17/phase1_v1.0/2008/05/200805-ESACCI-L3C_CLOUD-CLD_PRODUCTS-AVHRR_NOAA-17-fv1.0.nc'],\n",
       " ['200806-ESACCI-L3C_CLOUD-CLD_PRODUCTS-AVHRR_NOAA-17-fv1.0.nc',\n",
       "  datetime.datetime(2008, 6, 1, 0, 0),\n",
       "  datetime.datetime(2008, 6, 29, 0, 0),\n",
       "  167993444,\n",
       "  'http://esgf-data1.ceda.ac.uk/thredds/fileServer/esg_esacci/cloud/data/L3C/avhrr_noaa-17/phase1_v1.0/2008/06/200806-ESACCI-L3C_CLOUD-CLD_PRODUCTS-AVHRR_NOAA-17-fv1.0.nc'],\n",
       " ['200807-ESACCI-L3C_CLOUD-CLD_PRODUCTS-AVHRR_NOAA-17-fv1.0.nc',\n",
       "  datetime.datetime(2008, 7, 1, 0, 0),\n",
       "  datetime.datetime(2008, 7, 29, 0, 0),\n",
       "  167993444,\n",
       "  'http://esgf-data1.ceda.ac.uk/thredds/fileServer/esg_esacci/cloud/data/L3C/avhrr_noaa-17/phase1_v1.0/2008/07/200807-ESACCI-L3C_CLOUD-CLD_PRODUCTS-AVHRR_NOAA-17-fv1.0.nc'],\n",
       " ['200808-ESACCI-L3C_CLOUD-CLD_PRODUCTS-AVHRR_NOAA-17-fv1.0.nc',\n",
       "  datetime.datetime(2008, 8, 1, 0, 0),\n",
       "  datetime.datetime(2008, 8, 29, 0, 0),\n",
       "  167993444,\n",
       "  'http://esgf-data1.ceda.ac.uk/thredds/fileServer/esg_esacci/cloud/data/L3C/avhrr_noaa-17/phase1_v1.0/2008/08/200808-ESACCI-L3C_CLOUD-CLD_PRODUCTS-AVHRR_NOAA-17-fv1.0.nc'],\n",
       " ['200809-ESACCI-L3C_CLOUD-CLD_PRODUCTS-AVHRR_NOAA-17-fv1.0.nc',\n",
       "  datetime.datetime(2008, 9, 1, 0, 0),\n",
       "  datetime.datetime(2008, 9, 29, 0, 0),\n",
       "  167993444,\n",
       "  'http://esgf-data1.ceda.ac.uk/thredds/fileServer/esg_esacci/cloud/data/L3C/avhrr_noaa-17/phase1_v1.0/2008/09/200809-ESACCI-L3C_CLOUD-CLD_PRODUCTS-AVHRR_NOAA-17-fv1.0.nc'],\n",
       " ['200810-ESACCI-L3C_CLOUD-CLD_PRODUCTS-AVHRR_NOAA-17-fv1.0.nc',\n",
       "  datetime.datetime(2008, 10, 1, 0, 0),\n",
       "  datetime.datetime(2008, 10, 29, 0, 0),\n",
       "  167993444,\n",
       "  'http://esgf-data1.ceda.ac.uk/thredds/fileServer/esg_esacci/cloud/data/L3C/avhrr_noaa-17/phase1_v1.0/2008/10/200810-ESACCI-L3C_CLOUD-CLD_PRODUCTS-AVHRR_NOAA-17-fv1.0.nc'],\n",
       " ['200811-ESACCI-L3C_CLOUD-CLD_PRODUCTS-AVHRR_NOAA-17-fv1.0.nc',\n",
       "  datetime.datetime(2008, 11, 1, 0, 0),\n",
       "  datetime.datetime(2008, 11, 29, 0, 0),\n",
       "  167993444,\n",
       "  'http://esgf-data1.ceda.ac.uk/thredds/fileServer/esg_esacci/cloud/data/L3C/avhrr_noaa-17/phase1_v1.0/2008/11/200811-ESACCI-L3C_CLOUD-CLD_PRODUCTS-AVHRR_NOAA-17-fv1.0.nc'],\n",
       " ['200812-ESACCI-L3C_CLOUD-CLD_PRODUCTS-AVHRR_NOAA-17-fv1.0.nc',\n",
       "  datetime.datetime(2008, 12, 1, 0, 0),\n",
       "  datetime.datetime(2008, 12, 29, 0, 0),\n",
       "  167993444,\n",
       "  'http://esgf-data1.ceda.ac.uk/thredds/fileServer/esg_esacci/cloud/data/L3C/avhrr_noaa-17/phase1_v1.0/2008/12/200812-ESACCI-L3C_CLOUD-CLD_PRODUCTS-AVHRR_NOAA-17-fv1.0.nc'],\n",
       " ['200901-ESACCI-L3C_CLOUD-CLD_PRODUCTS-AVHRR_NOAA-17-fv1.0.nc',\n",
       "  datetime.datetime(2009, 1, 1, 0, 0),\n",
       "  datetime.datetime(2009, 1, 29, 0, 0),\n",
       "  167993444,\n",
       "  'http://esgf-data1.ceda.ac.uk/thredds/fileServer/esg_esacci/cloud/data/L3C/avhrr_noaa-17/phase1_v1.0/2009/01/200901-ESACCI-L3C_CLOUD-CLD_PRODUCTS-AVHRR_NOAA-17-fv1.0.nc'],\n",
       " ['200902-ESACCI-L3C_CLOUD-CLD_PRODUCTS-AVHRR_NOAA-17-fv1.0.nc',\n",
       "  datetime.datetime(2009, 2, 1, 0, 0),\n",
       "  datetime.datetime(2009, 3, 1, 0, 0),\n",
       "  167993444,\n",
       "  'http://esgf-data1.ceda.ac.uk/thredds/fileServer/esg_esacci/cloud/data/L3C/avhrr_noaa-17/phase1_v1.0/2009/02/200902-ESACCI-L3C_CLOUD-CLD_PRODUCTS-AVHRR_NOAA-17-fv1.0.nc'],\n",
       " ['200903-ESACCI-L3C_CLOUD-CLD_PRODUCTS-AVHRR_NOAA-17-fv1.0.nc',\n",
       "  datetime.datetime(2009, 3, 1, 0, 0),\n",
       "  datetime.datetime(2009, 3, 29, 0, 0),\n",
       "  167993444,\n",
       "  'http://esgf-data1.ceda.ac.uk/thredds/fileServer/esg_esacci/cloud/data/L3C/avhrr_noaa-17/phase1_v1.0/2009/03/200903-ESACCI-L3C_CLOUD-CLD_PRODUCTS-AVHRR_NOAA-17-fv1.0.nc'],\n",
       " ['200904-ESACCI-L3C_CLOUD-CLD_PRODUCTS-AVHRR_NOAA-17-fv1.0.nc',\n",
       "  datetime.datetime(2009, 4, 1, 0, 0),\n",
       "  datetime.datetime(2009, 4, 29, 0, 0),\n",
       "  167993444,\n",
       "  'http://esgf-data1.ceda.ac.uk/thredds/fileServer/esg_esacci/cloud/data/L3C/avhrr_noaa-17/phase1_v1.0/2009/04/200904-ESACCI-L3C_CLOUD-CLD_PRODUCTS-AVHRR_NOAA-17-fv1.0.nc'],\n",
       " ['200905-ESACCI-L3C_CLOUD-CLD_PRODUCTS-AVHRR_NOAA-17-fv1.0.nc',\n",
       "  datetime.datetime(2009, 5, 1, 0, 0),\n",
       "  datetime.datetime(2009, 5, 29, 0, 0),\n",
       "  167993444,\n",
       "  'http://esgf-data1.ceda.ac.uk/thredds/fileServer/esg_esacci/cloud/data/L3C/avhrr_noaa-17/phase1_v1.0/2009/05/200905-ESACCI-L3C_CLOUD-CLD_PRODUCTS-AVHRR_NOAA-17-fv1.0.nc'],\n",
       " ['200906-ESACCI-L3C_CLOUD-CLD_PRODUCTS-AVHRR_NOAA-17-fv1.0.nc',\n",
       "  datetime.datetime(2009, 6, 1, 0, 0),\n",
       "  datetime.datetime(2009, 6, 29, 0, 0),\n",
       "  167993444,\n",
       "  'http://esgf-data1.ceda.ac.uk/thredds/fileServer/esg_esacci/cloud/data/L3C/avhrr_noaa-17/phase1_v1.0/2009/06/200906-ESACCI-L3C_CLOUD-CLD_PRODUCTS-AVHRR_NOAA-17-fv1.0.nc'],\n",
       " ['200907-ESACCI-L3C_CLOUD-CLD_PRODUCTS-AVHRR_NOAA-17-fv1.0.nc',\n",
       "  datetime.datetime(2009, 7, 1, 0, 0),\n",
       "  datetime.datetime(2009, 7, 29, 0, 0),\n",
       "  167993444,\n",
       "  'http://esgf-data1.ceda.ac.uk/thredds/fileServer/esg_esacci/cloud/data/L3C/avhrr_noaa-17/phase1_v1.0/2009/07/200907-ESACCI-L3C_CLOUD-CLD_PRODUCTS-AVHRR_NOAA-17-fv1.0.nc'],\n",
       " ['200908-ESACCI-L3C_CLOUD-CLD_PRODUCTS-AVHRR_NOAA-17-fv1.0.nc',\n",
       "  datetime.datetime(2009, 8, 1, 0, 0),\n",
       "  datetime.datetime(2009, 8, 29, 0, 0),\n",
       "  167993444,\n",
       "  'http://esgf-data1.ceda.ac.uk/thredds/fileServer/esg_esacci/cloud/data/L3C/avhrr_noaa-17/phase1_v1.0/2009/08/200908-ESACCI-L3C_CLOUD-CLD_PRODUCTS-AVHRR_NOAA-17-fv1.0.nc'],\n",
       " ['200909-ESACCI-L3C_CLOUD-CLD_PRODUCTS-AVHRR_NOAA-17-fv1.0.nc',\n",
       "  datetime.datetime(2009, 9, 1, 0, 0),\n",
       "  datetime.datetime(2009, 9, 29, 0, 0),\n",
       "  167993444,\n",
       "  'http://esgf-data1.ceda.ac.uk/thredds/fileServer/esg_esacci/cloud/data/L3C/avhrr_noaa-17/phase1_v1.0/2009/09/200909-ESACCI-L3C_CLOUD-CLD_PRODUCTS-AVHRR_NOAA-17-fv1.0.nc'],\n",
       " ['200910-ESACCI-L3C_CLOUD-CLD_PRODUCTS-AVHRR_NOAA-17-fv1.0.nc',\n",
       "  datetime.datetime(2009, 10, 1, 0, 0),\n",
       "  datetime.datetime(2009, 10, 29, 0, 0),\n",
       "  167993444,\n",
       "  'http://esgf-data1.ceda.ac.uk/thredds/fileServer/esg_esacci/cloud/data/L3C/avhrr_noaa-17/phase1_v1.0/2009/10/200910-ESACCI-L3C_CLOUD-CLD_PRODUCTS-AVHRR_NOAA-17-fv1.0.nc'],\n",
       " ['200911-ESACCI-L3C_CLOUD-CLD_PRODUCTS-AVHRR_NOAA-17-fv1.0.nc',\n",
       "  datetime.datetime(2009, 11, 1, 0, 0),\n",
       "  datetime.datetime(2009, 11, 29, 0, 0),\n",
       "  167993444,\n",
       "  'http://esgf-data1.ceda.ac.uk/thredds/fileServer/esg_esacci/cloud/data/L3C/avhrr_noaa-17/phase1_v1.0/2009/11/200911-ESACCI-L3C_CLOUD-CLD_PRODUCTS-AVHRR_NOAA-17-fv1.0.nc'],\n",
       " ['200912-ESACCI-L3C_CLOUD-CLD_PRODUCTS-AVHRR_NOAA-17-fv1.0.nc',\n",
       "  datetime.datetime(2009, 12, 1, 0, 0),\n",
       "  datetime.datetime(2009, 12, 29, 0, 0),\n",
       "  167993444,\n",
       "  'http://esgf-data1.ceda.ac.uk/thredds/fileServer/esg_esacci/cloud/data/L3C/avhrr_noaa-17/phase1_v1.0/2009/12/200912-ESACCI-L3C_CLOUD-CLD_PRODUCTS-AVHRR_NOAA-17-fv1.0.nc']]"
      ]
     },
     "execution_count": 18,
     "metadata": {},
     "output_type": "execute_result"
    }
   ],
   "source": [
    "data_sources[0]._file_list"
   ]
  },
  {
   "cell_type": "code",
   "execution_count": 5,
   "metadata": {
    "collapsed": false,
    "scrolled": false
   },
   "outputs": [
    {
     "name": "stdout",
     "output_type": "stream",
     "text": [
      "Long Term Average: started\n",
      "Long Term Average:   0%\n",
      "Long Term Average:  40%\n",
      "Long Term Average:  45%\n",
      "Long Term Average:  86%\n",
      "Long Term Average:  90%\n",
      "Long Term Average: Saving the LTA dataset\n",
      "Long Term Average: 100%\n",
      "Long Term Average: done\n"
     ]
    }
   ],
   "source": [
    "lta = ops.long_term_average('esacci.CLOUD.mon.L3C.CLD_PRODUCTS.AVHRR.NOAA-17.AVHRR_NOAA.1-0.r1', 2007, 2008, \n",
    "                      '/home/ccitbx/Desktop/lta.nc', var='cc*', monitor=monitor)"
   ]
  },
  {
   "cell_type": "code",
   "execution_count": null,
   "metadata": {
    "collapsed": true
   },
   "outputs": [],
   "source": []
  }
 ],
 "metadata": {
  "kernelspec": {
   "display_name": "Python 3",
   "language": "python",
   "name": "python3"
  },
  "language_info": {
   "codemirror_mode": {
    "name": "ipython",
    "version": 3
   },
   "file_extension": ".py",
   "mimetype": "text/x-python",
   "name": "python",
   "nbconvert_exporter": "python",
   "pygments_lexer": "ipython3",
   "version": "3.5.2"
  }
 },
 "nbformat": 4,
 "nbformat_minor": 0
}
