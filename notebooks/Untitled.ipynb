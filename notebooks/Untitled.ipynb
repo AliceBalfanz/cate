{
 "cells": [
  {
   "cell_type": "code",
   "execution_count": 1,
   "metadata": {
    "collapsed": true
   },
   "outputs": [],
   "source": [
    "from ect.core.io import DATA_STORE_REGISTRY\n",
    "from ect.core.monitor import ConsoleMonitor\n",
    "import ect.ops as ops\n",
    "from datetime import datetime\n",
    "monitor = ConsoleMonitor()"
   ]
  },
  {
   "cell_type": "code",
   "execution_count": 2,
   "metadata": {
    "collapsed": false
   },
   "outputs": [],
   "source": [
    "data_store = DATA_STORE_REGISTRY.get_data_store('default')"
   ]
  },
  {
   "cell_type": "code",
   "execution_count": 3,
   "metadata": {
    "collapsed": false
   },
   "outputs": [
    {
     "name": "stdout",
     "output_type": "stream",
     "text": [
      "EsaCciOdpDataStore\n"
     ]
    }
   ],
   "source": [
    "print(data_store)"
   ]
  },
  {
   "cell_type": "code",
   "execution_count": 4,
   "metadata": {
    "collapsed": false
   },
   "outputs": [
    {
     "data": {
      "text/html": [
       "<p>Contents of FileSetFileStore</p><table><tr><td><strong>1</strong></td><td>esacci.GHRSST.second.L3U.SSTskin.AATSR.Envisat.AATSR.1-1.r1</td></tr>\n",
       "<tr><td><strong>2</strong></td><td>esacci.GHRSST.second.L2P.SSTskin.AVHRR.NOAA-12.AVHRR12_G.1-0.r1</td></tr>\n",
       "<tr><td><strong>3</strong></td><td>esacci.SEAICE.day.L4.SICONC.SSMI.multi-platform.SSMI.01-11.r1</td></tr>\n",
       "<tr><td><strong>4</strong></td><td>esacci.SEAICE.day.L4.SICONC.SSMI.multi-platform.SSMI.01-11.r2</td></tr>\n",
       "<tr><td><strong>5</strong></td><td>esacci.SEAICE.day.L4.SICONC.AMSRE.Aqua.AMSR.01-11.r1</td></tr>\n",
       "<tr><td><strong>6</strong></td><td>esacci.SEAICE.day.L4.SICONC.AMSRE.Aqua.AMSR.01-11.r2</td></tr>\n",
       "<tr><td><strong>7</strong></td><td>esacci.GHRSST.day.L4.SSTdepth.multi-sensor.multi-platform.OSTIA.1-0.r1</td></tr>\n",
       "<tr><td><strong>8</strong></td><td>esacci.GHRSST.day.L4.SSTdepth.multi-sensor.multi-platform.OSTIA.1-1.r1</td></tr>\n",
       "<tr><td><strong>9</strong></td><td>esacci.OZONE.day.L3S.TC.GOME-2.Metop-A.MERGED.fv0100.r1</td></tr>\n",
       "<tr><td><strong>10</strong></td><td>esacci.CLOUD.day.L3U.CLD_PRODUCTS.AVHRR.NOAA-15.AVHRR_NOAA.1-0.r1</td></tr>\n",
       "<tr><td><strong>11</strong></td><td>esacci.CLOUD.day.L3U.CLD_PRODUCTS.AVHRR.NOAA-16.AVHRR_NOAA.1-0.r1</td></tr>\n",
       "<tr><td><strong>12</strong></td><td>esacci.CLOUD.day.L3U.CLD_PRODUCTS.AVHRR.NOAA-18.AVHRR_NOAA.1-0.r1</td></tr>\n",
       "<tr><td><strong>13</strong></td><td>esacci.CLOUD.day.L3U.CLD_PRODUCTS.AVHRR.NOAA-17.AVHRR_NOAA.1-0.r1</td></tr>\n",
       "<tr><td><strong>14</strong></td><td>esacci.OC.day.L3S.K_490.multi-sensor.multi-platform.MERGED.1-0.r2</td></tr>\n",
       "<tr><td><strong>15</strong></td><td>esacci.OC.day.L3S.K_490.multi-sensor.multi-platform.MERGED.1-0.r1</td></tr>\n",
       "<tr><td><strong>16</strong></td><td>esacci.OZONE.mon.L3.NP.multi-sensor.multi-platform.MERGED.fv0002.r1</td></tr>\n",
       "<tr><td><strong>17</strong></td><td>esacci.OC.day.L3S.CHLOR_A.multi-sensor.multi-platform.MERGED.1-0.r1</td></tr>\n",
       "<tr><td><strong>18</strong></td><td>esacci.OC.day.L3S.CHLOR_A.multi-sensor.multi-platform.MERGED.1-0.r2</td></tr>\n",
       "<tr><td><strong>19</strong></td><td>esacci.CLOUD.mon.L3C.CLD_PRODUCTS.AVHRR.NOAA-15.AVHRR_NOAA.1-0.r1</td></tr>\n",
       "<tr><td><strong>20</strong></td><td>esacci.GHG.day.L2.CH4.TANSO-FTS.GOSAT.GOSAT.v2-3-6.r2</td></tr>\n",
       "<tr><td><strong>21</strong></td><td>esacci.GHG.day.L2.CH4.TANSO-FTS.GOSAT.GOSAT.v2-3-7.r2</td></tr>\n",
       "<tr><td><strong>22</strong></td><td>esacci.GHG.day.L2.CO2.TANSO-FTS.GOSAT.GOSAT.v2-3-6.r1</td></tr>\n",
       "<tr><td><strong>23</strong></td><td>esacci.GHG.day.L2.CH4.TANSO-FTS.GOSAT.GOSAT.v2-3-6.r1</td></tr>\n",
       "<tr><td><strong>24</strong></td><td>esacci.GHG.day.L2.CO2.TANSO-FTS.GOSAT.GOSAT.v2-3-7.r1</td></tr>\n",
       "<tr><td><strong>25</strong></td><td>esacci.GHG.day.L2.CH4.TANSO-FTS.GOSAT.GOSAT.v2-3-7.r1</td></tr>\n",
       "<tr><td><strong>26</strong></td><td>esacci.CLOUD.day.L3U.CLD_PRODUCTS.MODIS.Terra.MODIS_TERRA.1-0.r1</td></tr>\n",
       "<tr><td><strong>27</strong></td><td>esacci.CLOUD.day.L3U.CLD_PRODUCTS.MODIS.Aqua.MODIS_AQUA.1-0.r1</td></tr>\n",
       "<tr><td><strong>28</strong></td><td>esacci.OC.8-days.L3S.OC_PRODUCTS.multi-sensor.multi-platform.MERGED.1-0.r1</td></tr>\n",
       "<tr><td><strong>29</strong></td><td>esacci.OC.8-days.L3S.OC_PRODUCTS.multi-sensor.multi-platform.MERGED.1-0.r2</td></tr>\n",
       "<tr><td><strong>30</strong></td><td>esacci.OC.mon.L3S.OC_PRODUCTS.multi-sensor.multi-platform.MERGED.1-0.r3</td></tr>\n",
       "<tr><td><strong>31</strong></td><td>esacci.OC.mon.L3S.OC_PRODUCTS.multi-sensor.multi-platform.MERGED.1-0.r2</td></tr>\n",
       "<tr><td><strong>32</strong></td><td>esacci.OC.mon.L3S.OC_PRODUCTS.multi-sensor.multi-platform.MERGED.1-0.r1</td></tr>\n",
       "<tr><td><strong>33</strong></td><td>esacci.OC.yr.L3S.OC_PRODUCTS.multi-sensor.multi-platform.MERGED.1-0.r1</td></tr>\n",
       "<tr><td><strong>34</strong></td><td>esacci.OC.8-days.L3S.OC_PRODUCTS.multi-sensor.multi-platform.MERGED.v1-0.r1</td></tr>\n",
       "<tr><td><strong>35</strong></td><td>esacci.OC.day.L3S.IOP.multi-sensor.multi-platform.MERGED.v1-0.r1</td></tr>\n",
       "<tr><td><strong>36</strong></td><td>esacci.OC.day.L3S.IOP.multi-sensor.multi-platform.MERGED.1-0.r1</td></tr>\n",
       "<tr><td><strong>37</strong></td><td>esacci.GHRSST.second.L3U.SSTskin.AATSR.Envisat.AATSR.1-0.r1</td></tr>\n",
       "<tr><td><strong>38</strong></td><td>esacci.OZONE.day.L3S.TC.GOME.ERS-2.MERGED.fv0100.r1</td></tr>\n",
       "<tr><td><strong>39</strong></td><td>esacci.SOILMOISTURE.day.L3S.SSMV.multi-sensor.multi-platform.COMBINED.02-1.r1</td></tr>\n",
       "<tr><td><strong>40</strong></td><td>esacci.SOILMOISTURE.day.L3S.SSMV.multi-sensor.multi-platform.PASSIVE.02-1.r1</td></tr>\n",
       "<tr><td><strong>41</strong></td><td>esacci.SOILMOISTURE.day.L3S.SSMV.multi-sensor.multi-platform.PASSIVE.02-2.r1</td></tr>\n",
       "<tr><td><strong>42</strong></td><td>esacci.SOILMOISTURE.day.L3S.SSMS.multi-sensor.multi-platform.ACTIVE.02-1.r1</td></tr>\n",
       "<tr><td><strong>43</strong></td><td>esacci.SOILMOISTURE.day.L3S.SSMS.multi-sensor.multi-platform.ACTIVE.02-2.r1</td></tr>\n",
       "<tr><td><strong>44</strong></td><td>esacci.SEALEVEL.mon.IND.MSL.multi-sensor.multi-platform.MERGED.1-1.r1</td></tr>\n",
       "<tr><td><strong>45</strong></td><td>esacci.SEALEVEL.mon.IND.MSLAMPH.multi-sensor.multi-platform.MERGED.1-1.r1</td></tr>\n",
       "<tr><td><strong>46</strong></td><td>esacci.SEALEVEL.mon.IND.MSLTR.multi-sensor.multi-platform.MERGED.1-1.r1</td></tr>\n",
       "<tr><td><strong>47</strong></td><td>esacci.OC.day.L3S.RRS.multi-sensor.multi-platform.MERGED.1-0.r1</td></tr>\n",
       "<tr><td><strong>48</strong></td><td>esacci.OC.day.L3S.RRS.multi-sensor.multi-platform.MERGED.1-0.r2</td></tr>\n",
       "<tr><td><strong>49</strong></td><td>esacci.CLOUD.mon.L3C.CLD_PRODUCTS.AVHRR.NOAA-18.AVHRR_NOAA.1-0.r1</td></tr>\n",
       "<tr><td><strong>50</strong></td><td>esacci.CLOUD.mon.L3C.CLD_PRODUCTS.AVHRR.NOAA-16.AVHRR_NOAA.1-0.r1</td></tr>\n",
       "<tr><td><strong>51</strong></td><td>esacci.CLOUD.mon.L3C.CLD_PRODUCTS.AVHRR.NOAA-17.AVHRR_NOAA.1-0.r1</td></tr>\n",
       "<tr><td><strong>52</strong></td><td>esacci.CLOUD.mon.L3C.CLD_PRODUCTS.MODIS.Terra.MODIS_TERRA.1-0.r1</td></tr>\n",
       "<tr><td><strong>53</strong></td><td>esacci.CLOUD.mon.L3C.CLD_PRODUCTS.MODIS.Aqua.MODIS_AQUA.1-0.r1</td></tr>\n",
       "<tr><td><strong>54</strong></td><td>esacci.CLOUD.mon.L3S.CLD_PRODUCTS.MODIS.multi-platform.MODIS_MERGED.1-0.r1</td></tr>\n",
       "<tr><td><strong>55</strong></td><td>esacci.CLOUD.mon.L3S.CLD_PRODUCTS.AVHRR.multi-platform.AVHRR_MERGED.1-0.r1</td></tr>\n",
       "<tr><td><strong>56</strong></td><td>esacci.OC.day.L3S.OC_PRODUCTS.multi-sensor.multi-platform.MERGED.1-0.r3</td></tr>\n",
       "<tr><td><strong>57</strong></td><td>esacci.OC.day.L3S.OC_PRODUCTS.multi-sensor.multi-platform.MERGED.1-0.r4</td></tr>\n",
       "<tr><td><strong>58</strong></td><td>esacci.OC.day.L3S.OC_PRODUCTS.multi-sensor.multi-platform.MERGED.1-0.r2</td></tr>\n",
       "<tr><td><strong>59</strong></td><td>esacci.OC.day.L3S.OC_PRODUCTS.multi-sensor.multi-platform.MERGED.1-0.r1</td></tr>\n",
       "<tr><td><strong>60</strong></td><td>esacci.OC.day.L3S.OC_PRODUCTS.multi-sensor.multi-platform.MERGED.v1-0.r1</td></tr>\n",
       "<tr><td><strong>61</strong></td><td>esacci.FIRE.day.L4.BA.multi-sensor.multi-platform.MERIS.v4-1.r1</td></tr></table>"
      ],
      "text/plain": [
       "EsaCciOdpDataStore"
      ]
     },
     "execution_count": 4,
     "metadata": {},
     "output_type": "execute_result"
    }
   ],
   "source": [
    "data_store"
   ]
  },
  {
   "cell_type": "code",
   "execution_count": 5,
   "metadata": {
    "collapsed": false
   },
   "outputs": [
    {
     "name": "stdout",
     "output_type": "stream",
     "text": [
      "[esacci.OZONE.day.L3S.TC.GOME-2.Metop-A.MERGED.fv0100.r1, esacci.OZONE.mon.L3.NP.multi-sensor.multi-platform.MERGED.fv0002.r1, esacci.OZONE.day.L3S.TC.GOME.ERS-2.MERGED.fv0100.r1]\n",
      "[esacci.CLOUD.mon.L3C.CLD_PRODUCTS.AVHRR.NOAA-15.AVHRR_NOAA.1-0.r1]\n"
     ]
    },
    {
     "data": {
      "text/plain": [
       "[esacci.OZONE.day.L3S.TC.GOME-2.Metop-A.MERGED.fv0100.r1,\n",
       " esacci.OZONE.mon.L3.NP.multi-sensor.multi-platform.MERGED.fv0002.r1,\n",
       " esacci.OZONE.day.L3S.TC.GOME.ERS-2.MERGED.fv0100.r1]"
      ]
     },
     "execution_count": 5,
     "metadata": {},
     "output_type": "execute_result"
    }
   ],
   "source": [
    "#data_source_ozone = data_store.query('OZONE.mon')\n",
    "data_source_ozone = data_store.query('OZO')\n",
    "data_source_clouds = data_store.query('esacci.CLOUD.mon.L3C.CLD_PRODUCTS.AVHRR.NOAA-15.AVHRR_NOAA.1-0.r1')\n",
    "print(data_source_ozone)\n",
    "print(data_source_clouds)\n",
    "data_source_ozone"
   ]
  },
  {
   "cell_type": "code",
   "execution_count": 6,
   "metadata": {
    "collapsed": false
   },
   "outputs": [
    {
     "name": "stdout",
     "output_type": "stream",
     "text": [
      "cci_project:            OZONE\n",
      "data_type:              TC\n",
      "number_of_aggregations: 0\n",
      "number_of_files:        52\n",
      "platform_id:            Metop-A\n",
      "processing_level:       L3S\n",
      "product_string:         MERGED\n",
      "product_version:        fv0100\n",
      "project:                esacci\n",
      "realization:            r1\n",
      "sensor_id:              GOME-2\n",
      "size:                   108910516\n",
      "time_frequency:         day\n",
      "version:                20160704\n",
      "\n",
      "Temporal coverage: 2007-01-23 to 2011-06-02\n"
     ]
    }
   ],
   "source": [
    "print(data_source_ozone[0])"
   ]
  },
  {
   "cell_type": "code",
   "execution_count": 7,
   "metadata": {
    "collapsed": false
   },
   "outputs": [
    {
     "data": {
      "text/html": [
       "esacci.OZONE.day.L3S.TC.GOME-2.Metop-A.MERGED.fv0100.r1"
      ],
      "text/plain": [
       "esacci.OZONE.day.L3S.TC.GOME-2.Metop-A.MERGED.fv0100.r1"
      ]
     },
     "execution_count": 7,
     "metadata": {},
     "output_type": "execute_result"
    }
   ],
   "source": [
    "data_source_ozone[0]"
   ]
  },
  {
   "cell_type": "code",
   "execution_count": 8,
   "metadata": {
    "collapsed": false,
    "scrolled": true
   },
   "outputs": [
    {
     "name": "stdout",
     "output_type": "stream",
     "text": [
      "Sync esacci.OZONE.day.L3S.TC.GOME-2.Metop-A.MERGED.fv0100.r1: started\n",
      "Sync esacci.OZONE.day.L3S.TC.GOME-2.Metop-A.MERGED.fv0100.r1:   0%\n",
      "Sync esacci.OZONE.day.L3S.TC.GOME-2.Metop-A.MERGED.fv0100.r1:   0%\n",
      "Sync esacci.OZONE.day.L3S.TC.GOME-2.Metop-A.MERGED.fv0100.r1:   1%\n",
      "Sync esacci.OZONE.day.L3S.TC.GOME-2.Metop-A.MERGED.fv0100.r1:   2%\n",
      "Sync esacci.OZONE.day.L3S.TC.GOME-2.Metop-A.MERGED.fv0100.r1:   3%\n",
      "Sync esacci.OZONE.day.L3S.TC.GOME-2.Metop-A.MERGED.fv0100.r1:   4%\n",
      "Sync esacci.OZONE.day.L3S.TC.GOME-2.Metop-A.MERGED.fv0100.r1:   5%\n",
      "Sync esacci.OZONE.day.L3S.TC.GOME-2.Metop-A.MERGED.fv0100.r1:   6%\n",
      "Sync esacci.OZONE.day.L3S.TC.GOME-2.Metop-A.MERGED.fv0100.r1:   7%\n",
      "Sync esacci.OZONE.day.L3S.TC.GOME-2.Metop-A.MERGED.fv0100.r1:   8%\n",
      "Sync esacci.OZONE.day.L3S.TC.GOME-2.Metop-A.MERGED.fv0100.r1:   9%\n",
      "Sync esacci.OZONE.day.L3S.TC.GOME-2.Metop-A.MERGED.fv0100.r1:  10%\n",
      "Sync esacci.OZONE.day.L3S.TC.GOME-2.Metop-A.MERGED.fv0100.r1:  10%\n",
      "Sync esacci.OZONE.day.L3S.TC.GOME-2.Metop-A.MERGED.fv0100.r1:  10%\n",
      "Sync esacci.OZONE.day.L3S.TC.GOME-2.Metop-A.MERGED.fv0100.r1:  11%\n",
      "Sync esacci.OZONE.day.L3S.TC.GOME-2.Metop-A.MERGED.fv0100.r1:  12%\n",
      "Sync esacci.OZONE.day.L3S.TC.GOME-2.Metop-A.MERGED.fv0100.r1:  13%\n",
      "Sync esacci.OZONE.day.L3S.TC.GOME-2.Metop-A.MERGED.fv0100.r1:  14%\n",
      "Sync esacci.OZONE.day.L3S.TC.GOME-2.Metop-A.MERGED.fv0100.r1:  15%\n",
      "Sync esacci.OZONE.day.L3S.TC.GOME-2.Metop-A.MERGED.fv0100.r1:  16%\n",
      "Sync esacci.OZONE.day.L3S.TC.GOME-2.Metop-A.MERGED.fv0100.r1:  17%\n",
      "Sync esacci.OZONE.day.L3S.TC.GOME-2.Metop-A.MERGED.fv0100.r1:  18%\n",
      "Sync esacci.OZONE.day.L3S.TC.GOME-2.Metop-A.MERGED.fv0100.r1:  19%\n",
      "Sync esacci.OZONE.day.L3S.TC.GOME-2.Metop-A.MERGED.fv0100.r1:  20%\n",
      "Sync esacci.OZONE.day.L3S.TC.GOME-2.Metop-A.MERGED.fv0100.r1:  20%\n",
      "Sync esacci.OZONE.day.L3S.TC.GOME-2.Metop-A.MERGED.fv0100.r1:  20%\n",
      "Sync esacci.OZONE.day.L3S.TC.GOME-2.Metop-A.MERGED.fv0100.r1:  21%\n",
      "Sync esacci.OZONE.day.L3S.TC.GOME-2.Metop-A.MERGED.fv0100.r1:  22%\n",
      "Sync esacci.OZONE.day.L3S.TC.GOME-2.Metop-A.MERGED.fv0100.r1:  23%\n",
      "Sync esacci.OZONE.day.L3S.TC.GOME-2.Metop-A.MERGED.fv0100.r1:  24%\n",
      "Sync esacci.OZONE.day.L3S.TC.GOME-2.Metop-A.MERGED.fv0100.r1:  25%\n",
      "Sync esacci.OZONE.day.L3S.TC.GOME-2.Metop-A.MERGED.fv0100.r1:  26%\n",
      "Sync esacci.OZONE.day.L3S.TC.GOME-2.Metop-A.MERGED.fv0100.r1:  27%\n",
      "Sync esacci.OZONE.day.L3S.TC.GOME-2.Metop-A.MERGED.fv0100.r1:  28%\n",
      "Sync esacci.OZONE.day.L3S.TC.GOME-2.Metop-A.MERGED.fv0100.r1:  29%\n",
      "Sync esacci.OZONE.day.L3S.TC.GOME-2.Metop-A.MERGED.fv0100.r1:  30%\n",
      "Sync esacci.OZONE.day.L3S.TC.GOME-2.Metop-A.MERGED.fv0100.r1:  30%\n",
      "Sync esacci.OZONE.day.L3S.TC.GOME-2.Metop-A.MERGED.fv0100.r1:  30%\n",
      "Sync esacci.OZONE.day.L3S.TC.GOME-2.Metop-A.MERGED.fv0100.r1:  31%\n",
      "Sync esacci.OZONE.day.L3S.TC.GOME-2.Metop-A.MERGED.fv0100.r1:  32%\n",
      "Sync esacci.OZONE.day.L3S.TC.GOME-2.Metop-A.MERGED.fv0100.r1:  33%\n",
      "Sync esacci.OZONE.day.L3S.TC.GOME-2.Metop-A.MERGED.fv0100.r1:  34%\n",
      "Sync esacci.OZONE.day.L3S.TC.GOME-2.Metop-A.MERGED.fv0100.r1:  35%\n",
      "Sync esacci.OZONE.day.L3S.TC.GOME-2.Metop-A.MERGED.fv0100.r1:  36%\n",
      "Sync esacci.OZONE.day.L3S.TC.GOME-2.Metop-A.MERGED.fv0100.r1:  37%\n",
      "Sync esacci.OZONE.day.L3S.TC.GOME-2.Metop-A.MERGED.fv0100.r1:  38%\n",
      "Sync esacci.OZONE.day.L3S.TC.GOME-2.Metop-A.MERGED.fv0100.r1:  39%\n",
      "Sync esacci.OZONE.day.L3S.TC.GOME-2.Metop-A.MERGED.fv0100.r1:  40%\n",
      "Sync esacci.OZONE.day.L3S.TC.GOME-2.Metop-A.MERGED.fv0100.r1:  40%\n",
      "Sync esacci.OZONE.day.L3S.TC.GOME-2.Metop-A.MERGED.fv0100.r1:  40%\n",
      "Sync esacci.OZONE.day.L3S.TC.GOME-2.Metop-A.MERGED.fv0100.r1:  41%\n",
      "Sync esacci.OZONE.day.L3S.TC.GOME-2.Metop-A.MERGED.fv0100.r1:  42%\n",
      "Sync esacci.OZONE.day.L3S.TC.GOME-2.Metop-A.MERGED.fv0100.r1:  43%\n",
      "Sync esacci.OZONE.day.L3S.TC.GOME-2.Metop-A.MERGED.fv0100.r1:  44%\n",
      "Sync esacci.OZONE.day.L3S.TC.GOME-2.Metop-A.MERGED.fv0100.r1:  45%\n",
      "Sync esacci.OZONE.day.L3S.TC.GOME-2.Metop-A.MERGED.fv0100.r1:  46%\n",
      "Sync esacci.OZONE.day.L3S.TC.GOME-2.Metop-A.MERGED.fv0100.r1:  47%\n",
      "Sync esacci.OZONE.day.L3S.TC.GOME-2.Metop-A.MERGED.fv0100.r1:  48%\n",
      "Sync esacci.OZONE.day.L3S.TC.GOME-2.Metop-A.MERGED.fv0100.r1:  49%\n",
      "Sync esacci.OZONE.day.L3S.TC.GOME-2.Metop-A.MERGED.fv0100.r1:  50%\n",
      "Sync esacci.OZONE.day.L3S.TC.GOME-2.Metop-A.MERGED.fv0100.r1:  50%\n",
      "Sync esacci.OZONE.day.L3S.TC.GOME-2.Metop-A.MERGED.fv0100.r1:  50%\n",
      "Sync esacci.OZONE.day.L3S.TC.GOME-2.Metop-A.MERGED.fv0100.r1:  51%\n",
      "Sync esacci.OZONE.day.L3S.TC.GOME-2.Metop-A.MERGED.fv0100.r1:  52%\n",
      "Sync esacci.OZONE.day.L3S.TC.GOME-2.Metop-A.MERGED.fv0100.r1:  53%\n",
      "Sync esacci.OZONE.day.L3S.TC.GOME-2.Metop-A.MERGED.fv0100.r1:  54%\n",
      "Sync esacci.OZONE.day.L3S.TC.GOME-2.Metop-A.MERGED.fv0100.r1:  55%\n",
      "Sync esacci.OZONE.day.L3S.TC.GOME-2.Metop-A.MERGED.fv0100.r1:  56%\n",
      "Sync esacci.OZONE.day.L3S.TC.GOME-2.Metop-A.MERGED.fv0100.r1:  57%\n",
      "Sync esacci.OZONE.day.L3S.TC.GOME-2.Metop-A.MERGED.fv0100.r1:  58%\n",
      "Sync esacci.OZONE.day.L3S.TC.GOME-2.Metop-A.MERGED.fv0100.r1:  59%\n",
      "Sync esacci.OZONE.day.L3S.TC.GOME-2.Metop-A.MERGED.fv0100.r1:  60%\n",
      "Sync esacci.OZONE.day.L3S.TC.GOME-2.Metop-A.MERGED.fv0100.r1:  60%\n",
      "Sync esacci.OZONE.day.L3S.TC.GOME-2.Metop-A.MERGED.fv0100.r1:  60%\n",
      "Sync esacci.OZONE.day.L3S.TC.GOME-2.Metop-A.MERGED.fv0100.r1:  61%\n",
      "Sync esacci.OZONE.day.L3S.TC.GOME-2.Metop-A.MERGED.fv0100.r1:  62%\n",
      "Sync esacci.OZONE.day.L3S.TC.GOME-2.Metop-A.MERGED.fv0100.r1:  63%\n",
      "Sync esacci.OZONE.day.L3S.TC.GOME-2.Metop-A.MERGED.fv0100.r1:  64%\n",
      "Sync esacci.OZONE.day.L3S.TC.GOME-2.Metop-A.MERGED.fv0100.r1:  65%\n",
      "Sync esacci.OZONE.day.L3S.TC.GOME-2.Metop-A.MERGED.fv0100.r1:  66%\n",
      "Sync esacci.OZONE.day.L3S.TC.GOME-2.Metop-A.MERGED.fv0100.r1:  67%\n",
      "Sync esacci.OZONE.day.L3S.TC.GOME-2.Metop-A.MERGED.fv0100.r1:  68%\n",
      "Sync esacci.OZONE.day.L3S.TC.GOME-2.Metop-A.MERGED.fv0100.r1:  69%\n",
      "Sync esacci.OZONE.day.L3S.TC.GOME-2.Metop-A.MERGED.fv0100.r1:  70%\n",
      "Sync esacci.OZONE.day.L3S.TC.GOME-2.Metop-A.MERGED.fv0100.r1:  70%\n",
      "Sync esacci.OZONE.day.L3S.TC.GOME-2.Metop-A.MERGED.fv0100.r1:  70%\n",
      "Sync esacci.OZONE.day.L3S.TC.GOME-2.Metop-A.MERGED.fv0100.r1:  71%\n",
      "Sync esacci.OZONE.day.L3S.TC.GOME-2.Metop-A.MERGED.fv0100.r1:  72%\n",
      "Sync esacci.OZONE.day.L3S.TC.GOME-2.Metop-A.MERGED.fv0100.r1:  73%\n",
      "Sync esacci.OZONE.day.L3S.TC.GOME-2.Metop-A.MERGED.fv0100.r1:  74%\n",
      "Sync esacci.OZONE.day.L3S.TC.GOME-2.Metop-A.MERGED.fv0100.r1:  75%\n",
      "Sync esacci.OZONE.day.L3S.TC.GOME-2.Metop-A.MERGED.fv0100.r1:  76%\n",
      "Sync esacci.OZONE.day.L3S.TC.GOME-2.Metop-A.MERGED.fv0100.r1:  77%\n",
      "Sync esacci.OZONE.day.L3S.TC.GOME-2.Metop-A.MERGED.fv0100.r1:  78%\n",
      "Sync esacci.OZONE.day.L3S.TC.GOME-2.Metop-A.MERGED.fv0100.r1:  79%\n",
      "Sync esacci.OZONE.day.L3S.TC.GOME-2.Metop-A.MERGED.fv0100.r1:  80%\n",
      "Sync esacci.OZONE.day.L3S.TC.GOME-2.Metop-A.MERGED.fv0100.r1:  80%\n",
      "Sync esacci.OZONE.day.L3S.TC.GOME-2.Metop-A.MERGED.fv0100.r1:  80%\n",
      "Sync esacci.OZONE.day.L3S.TC.GOME-2.Metop-A.MERGED.fv0100.r1:  81%\n",
      "Sync esacci.OZONE.day.L3S.TC.GOME-2.Metop-A.MERGED.fv0100.r1:  82%\n",
      "Sync esacci.OZONE.day.L3S.TC.GOME-2.Metop-A.MERGED.fv0100.r1:  83%\n",
      "Sync esacci.OZONE.day.L3S.TC.GOME-2.Metop-A.MERGED.fv0100.r1:  84%\n",
      "Sync esacci.OZONE.day.L3S.TC.GOME-2.Metop-A.MERGED.fv0100.r1:  85%\n",
      "Sync esacci.OZONE.day.L3S.TC.GOME-2.Metop-A.MERGED.fv0100.r1:  86%\n",
      "Sync esacci.OZONE.day.L3S.TC.GOME-2.Metop-A.MERGED.fv0100.r1:  87%\n",
      "Sync esacci.OZONE.day.L3S.TC.GOME-2.Metop-A.MERGED.fv0100.r1:  88%\n",
      "Sync esacci.OZONE.day.L3S.TC.GOME-2.Metop-A.MERGED.fv0100.r1:  89%\n",
      "Sync esacci.OZONE.day.L3S.TC.GOME-2.Metop-A.MERGED.fv0100.r1:  90%\n",
      "Sync esacci.OZONE.day.L3S.TC.GOME-2.Metop-A.MERGED.fv0100.r1:  90%\n",
      "Sync esacci.OZONE.day.L3S.TC.GOME-2.Metop-A.MERGED.fv0100.r1:  91%\n",
      "Sync esacci.OZONE.day.L3S.TC.GOME-2.Metop-A.MERGED.fv0100.r1:  92%\n",
      "Sync esacci.OZONE.day.L3S.TC.GOME-2.Metop-A.MERGED.fv0100.r1:  93%\n",
      "Sync esacci.OZONE.day.L3S.TC.GOME-2.Metop-A.MERGED.fv0100.r1:  94%\n",
      "Sync esacci.OZONE.day.L3S.TC.GOME-2.Metop-A.MERGED.fv0100.r1:  95%\n",
      "Sync esacci.OZONE.day.L3S.TC.GOME-2.Metop-A.MERGED.fv0100.r1:  96%\n",
      "Sync esacci.OZONE.day.L3S.TC.GOME-2.Metop-A.MERGED.fv0100.r1:  97%\n",
      "Sync esacci.OZONE.day.L3S.TC.GOME-2.Metop-A.MERGED.fv0100.r1:  98%\n",
      "Sync esacci.OZONE.day.L3S.TC.GOME-2.Metop-A.MERGED.fv0100.r1:  99%\n",
      "Sync esacci.OZONE.day.L3S.TC.GOME-2.Metop-A.MERGED.fv0100.r1: 100%\n",
      "Sync esacci.OZONE.day.L3S.TC.GOME-2.Metop-A.MERGED.fv0100.r1: 101%\n",
      "Sync esacci.OZONE.day.L3S.TC.GOME-2.Metop-A.MERGED.fv0100.r1: 101%\n",
      "Sync esacci.OZONE.day.L3S.TC.GOME-2.Metop-A.MERGED.fv0100.r1: progress\n"
     ]
    },
    {
     "data": {
      "text/plain": [
       "(0, 12)"
      ]
     },
     "execution_count": 8,
     "metadata": {},
     "output_type": "execute_result"
    }
   ],
   "source": [
    "time_range = [datetime(2007,1,1),datetime(2007,12,30)]\n",
    "data_source_ozone[0].sync(time_range, monitor=monitor)\n",
    "data_source_clouds[0].sync(time_range, monitor=monitor)"
   ]
  },
  {
   "cell_type": "code",
   "execution_count": 9,
   "metadata": {
    "collapsed": false
   },
   "outputs": [
    {
     "data": {
      "text/plain": [
       "[esacci.CLOUD.mon.L3C.CLD_PRODUCTS.AVHRR.NOAA-15.AVHRR_NOAA.1-0.r1]"
      ]
     },
     "execution_count": 9,
     "metadata": {},
     "output_type": "execute_result"
    }
   ],
   "source": [
    "data_source_clouds"
   ]
  },
  {
   "cell_type": "code",
   "execution_count": 10,
   "metadata": {
    "collapsed": false
   },
   "outputs": [],
   "source": [
    "ozone2007 = ops.io.open_dataset('esacci.OZONE.mon.L3.NP.multi-sensor.multi-platform.MERGED.fv0002.r1', \n",
    "                                start_date='2007-01-01', end_date='2007-12-30')"
   ]
  },
  {
   "cell_type": "code",
   "execution_count": 11,
   "metadata": {
    "collapsed": true
   },
   "outputs": [],
   "source": [
    "clouds2007 = ops.io.open_dataset('esacci.CLOUD.mon.L3C.CLD_PRODUCTS.AVHRR.NOAA-15.AVHRR_NOAA.1-0.r1',\n",
    "                                start_date='2007-01-01', end_date='2007-12-30')"
   ]
  },
  {
   "cell_type": "code",
   "execution_count": 12,
   "metadata": {
    "collapsed": false
   },
   "outputs": [],
   "source": [
    "# 03_du_tot\n",
    "# cc_total"
   ]
  },
  {
   "cell_type": "code",
   "execution_count": 13,
   "metadata": {
    "collapsed": false
   },
   "outputs": [],
   "source": [
    "ozone2007_total = ops.select_variables(ozone2007, 'O3_du_tot')\n",
    "clouds2007_total = ops.select_variables(clouds2007, 'cc_total')"
   ]
  },
  {
   "cell_type": "code",
   "execution_count": 14,
   "metadata": {
    "collapsed": false
   },
   "outputs": [
    {
     "data": {
      "text/plain": [
       "<xarray.Dataset>\n",
       "Dimensions:                   (hist_cot: 7, hist_cot_bin: 6, hist_ctp: 8, hist_ctp_bin: 7, hist_phase: 2, lat: 360, lon: 720, time: 12)\n",
       "Coordinates:\n",
       "  * lat                       (lat) float32 -89.75 -89.25 -88.75 -88.25 ...\n",
       "  * lon                       (lon) float32 -179.75 -179.25 -178.75 -178.25 ...\n",
       "  * hist_cot                  (hist_cot) float32 0.3 1.3 3.6 9.4 23.0 60.0 100.0\n",
       "  * hist_cot_bin              (hist_cot_bin) float32 1.0 2.0 3.0 4.0 5.0 6.0\n",
       "  * hist_ctp                  (hist_ctp) float32 1100.0 800.0 680.0 560.0 ...\n",
       "  * hist_ctp_bin              (hist_ctp_bin) float32 1.0 2.0 3.0 4.0 5.0 6.0 7.0\n",
       "  * hist_phase                (hist_phase) int32 0 1\n",
       "  * time                      (time) float64 2.454e+06 2.454e+06 2.454e+06 ...\n",
       "Data variables:\n",
       "    cc_total                  (time, lat, lon) float64 0.1497 0.309 0.2208 ...\n",
       "    cc_total_uncertainty      (time, lat, lon) float64 0.0 0.0 0.0 0.0 0.0 ...\n",
       "    cc_total_wm               (time, lat, lon) float64 0.0 0.0 0.0 0.0 0.0 ...\n",
       "    cc_total_wstd             (time, lat, lon) float64 0.0 0.0 0.0 0.0 0.0 ...\n",
       "    cc_total_std              (time, lat, lon) float64 0.3867 0.5554 0.4695 ...\n",
       "    cc_total_uncertainty_std  (time, lat, lon) float64 0.0 0.0 0.0 0.0 0.0 ..."
      ]
     },
     "execution_count": 14,
     "metadata": {},
     "output_type": "execute_result"
    }
   ],
   "source": [
    "clouds2007_total"
   ]
  },
  {
   "cell_type": "code",
   "execution_count": null,
   "metadata": {
    "collapsed": true
   },
   "outputs": [],
   "source": []
  }
 ],
 "metadata": {
  "kernelspec": {
   "display_name": "Python 3",
   "language": "python",
   "name": "python3"
  },
  "language_info": {
   "codemirror_mode": {
    "name": "ipython",
    "version": 3
   },
   "file_extension": ".py",
   "mimetype": "text/x-python",
   "name": "python",
   "nbconvert_exporter": "python",
   "pygments_lexer": "ipython3",
   "version": "3.5.0rc4"
  }
 },
 "nbformat": 4,
 "nbformat_minor": 0
}
