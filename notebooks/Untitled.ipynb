{
 "cells": [
  {
   "cell_type": "code",
   "execution_count": 1,
   "metadata": {
    "collapsed": true
   },
   "outputs": [],
   "source": [
    "from ect.core.io import DATA_STORE_REGISTRY\n",
    "from ect.core.monitor import ConsoleMonitor\n",
    "import ect.ops as ops\n",
    "from datetime import datetime\n",
    "monitor = ConsoleMonitor()"
   ]
  },
  {
   "cell_type": "code",
   "execution_count": 2,
   "metadata": {
    "collapsed": false
   },
   "outputs": [],
   "source": [
    "data_store = DATA_STORE_REGISTRY.get_data_store('default')"
   ]
  },
  {
   "cell_type": "code",
   "execution_count": 3,
   "metadata": {
    "collapsed": false
   },
   "outputs": [
    {
     "name": "stdout",
     "output_type": "stream",
     "text": [
      "[<ect.ds.esa_cci_odp.EsaCciOdpDataSource object at 0x7f84b12645c0>]\n",
      "[<ect.ds.esa_cci_odp.EsaCciOdpDataSource object at 0x7f84b1264668>]\n"
     ]
    }
   ],
   "source": [
    "data_source_ozone = data_store.query('OZONE.mon')\n",
    "data_source_clouds = data_store.query('esacci.CLOUD.mon.L3C.CLD_PRODUCTS.AVHRR.NOAA-15.AVHRR_NOAA.1-0.r1')\n",
    "print(data_source_ozone)\n",
    "print(data_source_clouds)"
   ]
  },
  {
   "cell_type": "code",
   "execution_count": 4,
   "metadata": {
    "collapsed": false,
    "scrolled": true
   },
   "outputs": [
    {
     "data": {
      "text/plain": [
       "(0, 12)"
      ]
     },
     "execution_count": 4,
     "metadata": {},
     "output_type": "execute_result"
    }
   ],
   "source": [
    "time_range = [datetime(2007,1,1),datetime(2007,12,30)]\n",
    "data_source_ozone[0].sync(time_range, monitor=monitor)\n",
    "data_source_clouds[0].sync(time_range, monitor=monitor)"
   ]
  },
  {
   "cell_type": "code",
   "execution_count": 5,
   "metadata": {
    "collapsed": false
   },
   "outputs": [
    {
     "data": {
      "text/plain": [
       "[<ect.ds.esa_cci_odp.EsaCciOdpDataSource at 0x7f84b1264668>]"
      ]
     },
     "execution_count": 5,
     "metadata": {},
     "output_type": "execute_result"
    }
   ],
   "source": [
    "data_source_clouds"
   ]
  },
  {
   "cell_type": "code",
   "execution_count": 6,
   "metadata": {
    "collapsed": false
   },
   "outputs": [],
   "source": [
    "ozone2007 = ops.io.open_dataset('esacci.OZONE.mon.L3.NP.multi-sensor.multi-platform.MERGED.fv0002.r1', \n",
    "                                start_date='2007-01-01', end_date='2007-12-30')"
   ]
  },
  {
   "cell_type": "code",
   "execution_count": 7,
   "metadata": {
    "collapsed": true
   },
   "outputs": [],
   "source": [
    "clouds2007 = ops.io.open_dataset('esacci.CLOUD.mon.L3C.CLD_PRODUCTS.AVHRR.NOAA-15.AVHRR_NOAA.1-0.r1',\n",
    "                                start_date='2007-01-01', end_date='2007-12-30')"
   ]
  },
  {
   "cell_type": "code",
   "execution_count": 9,
   "metadata": {
    "collapsed": false
   },
   "outputs": [],
   "source": [
    "# 03_du_tot\n",
    "# cc_total"
   ]
  },
  {
   "cell_type": "code",
   "execution_count": 15,
   "metadata": {
    "collapsed": false
   },
   "outputs": [],
   "source": [
    "ozone2007_total = ops.select_variables(ozone2007, 'O3_du_tot')\n",
    "clouds2007_total = ops.select_variables(clouds2007, 'cc_total')"
   ]
  },
  {
   "cell_type": "code",
   "execution_count": 20,
   "metadata": {
    "collapsed": false
   },
   "outputs": [
    {
     "data": {
      "text/plain": [
       "<xarray.Dataset>\n",
       "Dimensions:                   (hist_cot: 7, hist_cot_bin: 6, hist_ctp: 8, hist_ctp_bin: 7, hist_phase: 2, lat: 360, lon: 720, time: 12)\n",
       "Coordinates:\n",
       "  * lat                       (lat) float32 -89.75 -89.25 -88.75 -88.25 ...\n",
       "  * lon                       (lon) float32 -179.75 -179.25 -178.75 -178.25 ...\n",
       "  * hist_cot                  (hist_cot) float32 0.3 1.3 3.6 9.4 23.0 60.0 100.0\n",
       "  * hist_cot_bin              (hist_cot_bin) float32 1.0 2.0 3.0 4.0 5.0 6.0\n",
       "  * hist_ctp                  (hist_ctp) float32 1100.0 800.0 680.0 560.0 ...\n",
       "  * hist_ctp_bin              (hist_ctp_bin) float32 1.0 2.0 3.0 4.0 5.0 6.0 7.0\n",
       "  * hist_phase                (hist_phase) int32 0 1\n",
       "  * time                      (time) float64 2.454e+06 2.454e+06 2.454e+06 ...\n",
       "Data variables:\n",
       "    cc_total_wstd             (time, lat, lon) float64 0.0 0.0 0.0 0.0 0.0 ...\n",
       "    cc_total                  (time, lat, lon) float64 0.1497 0.309 0.2208 ...\n",
       "    cc_total_uncertainty_std  (time, lat, lon) float64 0.0 0.0 0.0 0.0 0.0 ...\n",
       "    cc_total_std              (time, lat, lon) float64 0.3867 0.5554 0.4695 ...\n",
       "    cc_total_wm               (time, lat, lon) float64 0.0 0.0 0.0 0.0 0.0 ...\n",
       "    cc_total_uncertainty      (time, lat, lon) float64 0.0 0.0 0.0 0.0 0.0 ..."
      ]
     },
     "execution_count": 20,
     "metadata": {},
     "output_type": "execute_result"
    }
   ],
   "source": [
    "clouds2007_total"
   ]
  },
  {
   "cell_type": "code",
   "execution_count": null,
   "metadata": {
    "collapsed": true
   },
   "outputs": [],
   "source": []
  }
 ],
 "metadata": {
  "kernelspec": {
   "display_name": "Python 3",
   "language": "python",
   "name": "python3"
  },
  "language_info": {
   "codemirror_mode": {
    "name": "ipython",
    "version": 3
   },
   "file_extension": ".py",
   "mimetype": "text/x-python",
   "name": "python",
   "nbconvert_exporter": "python",
   "pygments_lexer": "ipython3",
   "version": "3.5.0rc4"
  }
 },
 "nbformat": 4,
 "nbformat_minor": 0
}
