{
 "cells": [
  {
   "cell_type": "code",
   "execution_count": 1,
   "metadata": {
    "collapsed": true
   },
   "outputs": [],
   "source": [
    "from ect.core.io import DATA_STORE_REGISTRY\n",
    "from ect.core.monitor import ConsoleMonitor\n",
    "import ect.ops as ops\n",
    "from datetime import datetime\n",
    "monitor = ConsoleMonitor()"
   ]
  },
  {
   "cell_type": "code",
   "execution_count": 2,
   "metadata": {
    "collapsed": false
   },
   "outputs": [],
   "source": [
    "data_store = DATA_STORE_REGISTRY.get_data_store('default')"
   ]
  },
  {
   "cell_type": "code",
   "execution_count": 3,
   "metadata": {
    "collapsed": false
   },
   "outputs": [
    {
     "name": "stdout",
     "output_type": "stream",
     "text": [
      "[<ect.ds.esa_cci_odp.EsaCciOdpDataSource object at 0x7f7c2c7482b0>]\n",
      "[<ect.ds.esa_cci_odp.EsaCciOdpDataSource object at 0x7f7c2c748358>]\n"
     ]
    }
   ],
   "source": [
    "data_source_ozone = data_store.query('OZONE.mon')\n",
    "data_source_clouds = data_store.query('esacci.CLOUD.mon.L3C.CLD_PRODUCTS.AVHRR.NOAA-15.AVHRR_NOAA.1-0.r1')\n",
    "print(data_source_ozone)\n",
    "print(data_source_clouds)"
   ]
  },
  {
   "cell_type": "code",
   "execution_count": 4,
   "metadata": {
    "collapsed": false,
    "scrolled": true
   },
   "outputs": [
    {
     "data": {
      "text/plain": [
       "(0, 12)"
      ]
     },
     "execution_count": 4,
     "metadata": {},
     "output_type": "execute_result"
    }
   ],
   "source": [
    "time_range = [datetime(2007,1,1),datetime(2007,12,30)]\n",
    "data_source_ozone[0].sync(time_range, monitor=monitor)\n",
    "data_source_clouds[0].sync(time_range, monitor=monitor)"
   ]
  },
  {
   "cell_type": "code",
   "execution_count": 5,
   "metadata": {
    "collapsed": false
   },
   "outputs": [
    {
     "data": {
      "text/plain": [
       "[<ect.ds.esa_cci_odp.EsaCciOdpDataSource at 0x7f7c2c748358>]"
      ]
     },
     "execution_count": 5,
     "metadata": {},
     "output_type": "execute_result"
    }
   ],
   "source": [
    "data_source_clouds"
   ]
  },
  {
   "cell_type": "code",
   "execution_count": 6,
   "metadata": {
    "collapsed": false
   },
   "outputs": [],
   "source": [
    "ozone2007 = ops.io.open_dataset('esacci.OZONE.mon.L3.NP.multi-sensor.multi-platform.MERGED.fv0002.r1', \n",
    "                                start_date='2007-01-01', end_date='2007-12-30')"
   ]
  },
  {
   "cell_type": "code",
   "execution_count": 7,
   "metadata": {
    "collapsed": true
   },
   "outputs": [],
   "source": [
    "clouds2007 = ops.io.open_dataset('esacci.CLOUD.mon.L3C.CLD_PRODUCTS.AVHRR.NOAA-15.AVHRR_NOAA.1-0.r1',\n",
    "                                start_date='2007-01-01', end_date='2007-12-30')"
   ]
  },
  {
   "cell_type": "code",
   "execution_count": 8,
   "metadata": {
    "collapsed": false
   },
   "outputs": [
    {
     "data": {
      "text/plain": [
       "<xarray.Dataset>\n",
       "Dimensions:           (air_pressure: 17, lat: 180, layers: 16, lon: 360, time: 12)\n",
       "Coordinates:\n",
       "  * lon               (lon) float32 -179.5 -178.5 -177.5 -176.5 -175.5 ...\n",
       "  * lat               (lat) float32 -89.5 -88.5 -87.5 -86.5 -85.5 -84.5 ...\n",
       "  * layers            (layers) int32 1 2 3 4 5 6 7 8 9 10 11 12 13 14 15 16\n",
       "  * air_pressure      (air_pressure) float32 1013.0 446.05 196.35 113.63 ...\n",
       "  * time              (time) datetime64[ns] 2007-01-04 2007-02-01 2007-03-01 ...\n",
       "Data variables:\n",
       "    O3e_du            (time, layers, lat, lon) float32 1.18361 1.44011 ...\n",
       "    O3_du             (time, layers, lat, lon) float32 4.77314 4.80547 ...\n",
       "    O3_vmr            (time, air_pressure, lat, lon) float32 0.0140918 ...\n",
       "    O3e_ndens         (time, air_pressure, lat, lon) float32 5.71963e+10 ...\n",
       "    O3e_du_tot        (time, lat, lon) float32 1.91157 2.37338 2.14391 ...\n",
       "    O3_du_tot         (time, lat, lon) float32 260.176 264.998 267.394 ...\n",
       "    O3e_vmr           (time, air_pressure, lat, lon) float32 0.00287585 ...\n",
       "    O3_ndens          (time, air_pressure, lat, lon) float32 2.80126e+11 ...\n",
       "    surface_pressure  (time, lat, lon) float32 679.977 680.113 682.855 ..."
      ]
     },
     "execution_count": 8,
     "metadata": {},
     "output_type": "execute_result"
    }
   ],
   "source": [
    "ozone2007"
   ]
  },
  {
   "cell_type": "code",
   "execution_count": 9,
   "metadata": {
    "collapsed": false
   },
   "outputs": [
    {
     "data": {
      "text/plain": [
       "<xarray.Dataset>\n",
       "Dimensions:                          (hist_cot: 7, hist_cot_bin: 6, hist_ctp: 8, hist_ctp_bin: 7, hist_phase: 2, lat: 360, lon: 720, time: 12)\n",
       "Coordinates:\n",
       "  * lat                              (lat) float32 -89.75 -89.25 -88.75 ...\n",
       "  * lon                              (lon) float32 -179.75 -179.25 -178.75 ...\n",
       "  * hist_cot                         (hist_cot) float32 0.3 1.3 3.6 9.4 23.0 ...\n",
       "  * hist_cot_bin                     (hist_cot_bin) float32 1.0 2.0 3.0 4.0 ...\n",
       "  * hist_ctp                         (hist_ctp) float32 1100.0 800.0 680.0 ...\n",
       "  * hist_ctp_bin                     (hist_ctp_bin) float32 1.0 2.0 3.0 4.0 ...\n",
       "  * hist_phase                       (hist_phase) int32 0 1\n",
       "  * time                             (time) float64 2.454e+06 2.454e+06 ...\n",
       "Data variables:\n",
       "    iwp_uncertainty_std              (time, lat, lon) float64 6.54e+03 ...\n",
       "    cc_total_uncertainty_std         (time, lat, lon) float64 0.0 0.0 0.0 ...\n",
       "    ctp_std                          (time, lat, lon) float64 27.31 21.59 ...\n",
       "    cot_wm                           (time, lat, lon) float64 8.761 8.568 ...\n",
       "    ctt_uncertainty_std              (time, lat, lon) float64 32.64 41.2 ...\n",
       "    npoints_macro_cct_middle_cloudy  (time, lat, lon) float64 24.0 55.0 34.0 ...\n",
       "    npoints_micro_cloudy             (time, lat, lon) float64 25.0 55.0 34.0 ...\n",
       "    cot_ctp_hist2d                   (time, hist_phase, hist_ctp_bin, hist_cot_bin, lat, lon) float64 0.0 ...\n",
       "    cwp_uncertainty                  (time, lat, lon) float64 606.3 483.8 ...\n",
       "    ref                              (time, lat, lon) float64 35.26 27.61 ...\n",
       "    npoints_micro_clear              (time, lat, lon) float64 142.0 123.0 ...\n",
       "    cwp_med                          (time, lat, lon) float64 190.0 163.2 ...\n",
       "    cth_wm                           (time, lat, lon) float64 4.993 4.956 ...\n",
       "    ctt_wstd                         (time, lat, lon) float64 2.545 2.228 ...\n",
       "    lwp_uncertainty_std              (time, lat, lon) float64 1.904e+03 ...\n",
       "    ctp_log                          (time, lat, lon) float64 498.1 507.7 ...\n",
       "    iwp_uncertainty                  (time, lat, lon) float64 394.8 286.7 ...\n",
       "    cwp_wstd                         (time, lat, lon) float64 122.0 88.98 ...\n",
       "    ctp_med                          (time, lat, lon) float64 498.5 509.4 ...\n",
       "    cph                              (time, lat, lon) float64 0.84 0.8727 ...\n",
       "    lwp_wm                           (time, lat, lon) float64 120.4 121.2 ...\n",
       "    cth_uncertainty_std              (time, lat, lon) float64 6.009 7.228 ...\n",
       "    cc_total_std                     (time, lat, lon) float64 0.3867 0.5554 ...\n",
       "    cth                              (time, lat, lon) float64 5.096 4.966 ...\n",
       "    cth_std                          (time, lat, lon) float64 0.4016 0.2825 ...\n",
       "    cc_middle                        (time, lat, lon) float64 0.1437 0.309 ...\n",
       "    ctt_std                          (time, lat, lon) float64 2.562 2.188 ...\n",
       "    npoints_macro_cct_high_cloudy    (time, lat, lon) float64 1.0 0.0 0.0 ...\n",
       "    iwp_wm                           (time, lat, lon) float64 728.3 101.4 ...\n",
       "    ctt_uncertainty                  (time, lat, lon) float64 5.957 5.043 ...\n",
       "    lwp_wstd                         (time, lat, lon) float64 77.02 67.75 ...\n",
       "    cc_low                           (time, lat, lon) float64 0.0 0.0 0.0 ...\n",
       "    ctp_uncertainty                  (time, lat, lon) float64 7.62 6.391 ...\n",
       "    ref_wstd                         (time, lat, lon) float64 15.99 11.03 ...\n",
       "    cth_med                          (time, lat, lon) float64 5.06 4.94 5.03 ...\n",
       "    cot_uncertainty_std              (time, lat, lon) float64 683.7 ...\n",
       "    lwp                              (time, lat, lon) float64 195.1 185.0 ...\n",
       "    cc_total_wstd                    (time, lat, lon) float64 0.0 0.0 0.0 ...\n",
       "    npoints_macro_cct_low_cloudy     (time, lat, lon) float64 0.0 0.0 0.0 ...\n",
       "    cot_wstd                         (time, lat, lon) float64 6.917 6.93 ...\n",
       "    npoints_micro_cloudy_liq         (time, lat, lon) float64 21.0 48.0 29.0 ...\n",
       "    ctp                              (time, lat, lon) float64 498.9 508.2 ...\n",
       "    iwp_std                          (time, lat, lon) float64 565.2 406.2 ...\n",
       "    npoints_macro_cloudy             (time, lat, lon) float64 25.0 55.0 34.0 ...\n",
       "    cth_wstd                         (time, lat, lon) float64 0.3594 0.2847 ...\n",
       "    npoints_macro_clear              (time, lat, lon) float64 142.0 123.0 ...\n",
       "    cwp                              (time, lat, lon) float64 406.6 302.8 ...\n",
       "    cot_std                          (time, lat, lon) float64 11.9 14.42 ...\n",
       "    npoints_macro_cct_cloudy         (time, lat, lon) float64 25.0 55.0 34.0 ...\n",
       "    cph_std                          (time, lat, lon) float64 0.3666 0.3333 ...\n",
       "    npoints_macro_cct_clear          (time, lat, lon) float64 142.0 123.0 ...\n",
       "    ctp_wm                           (time, lat, lon) float64 505.2 508.8 ...\n",
       "    iwp_wstd                         (time, lat, lon) float64 821.0 517.9 ...\n",
       "    lwp_uncertainty                  (time, lat, lon) float64 211.5 197.1 ...\n",
       "    ref_med                          (time, lat, lon) float64 30.32 21.11 ...\n",
       "    ctt_wm                           (time, lat, lon) float64 243.1 242.3 ...\n",
       "    iwp                              (time, lat, lon) float64 211.5 117.8 ...\n",
       "    cc_total                         (time, lat, lon) float64 0.1497 0.309 ...\n",
       "    cot_log                          (time, lat, lon) float64 13.54 13.04 ...\n",
       "    cot_uncertainty                  (time, lat, lon) float64 99.96 99.1 ...\n",
       "    ctp_wstd                         (time, lat, lon) float64 24.73 21.53 ...\n",
       "    ref_uncertainty_std              (time, lat, lon) float64 8.542 67.46 ...\n",
       "    cwp_wm                           (time, lat, lon) float64 127.0 120.1 ...\n",
       "    cc_total_wm                      (time, lat, lon) float64 0.0 0.0 0.0 ...\n",
       "    cth_uncertainty                  (time, lat, lon) float64 1.071 0.8791 ...\n",
       "    cwp_uncertainty_std              (time, lat, lon) float64 6.799e+03 ...\n",
       "    ctt                              (time, lat, lon) float64 241.7 242.0 ...\n",
       "    cot_med                          (time, lat, lon) float64 11.24 14.87 ...\n",
       "    ref_std                          (time, lat, lon) float64 28.91 19.71 ...\n",
       "    ref_wm                           (time, lat, lon) float64 30.49 28.69 ...\n",
       "    cc_total_uncertainty             (time, lat, lon) float64 0.0 0.0 0.0 ...\n",
       "    cwp_std                          (time, lat, lon) float64 529.1 397.2 ...\n",
       "    cc_high                          (time, lat, lon) float64 0.005988 0.0 ...\n",
       "    ref_uncertainty                  (time, lat, lon) float64 1.097 2.539 ...\n",
       "    ctt_med                          (time, lat, lon) float64 241.6 242.4 ...\n",
       "    npoints_micro_cloudy_ice         (time, lat, lon) float64 4.0 7.0 5.0 ...\n",
       "    cot                              (time, lat, lon) float64 17.27 17.61 ...\n",
       "    ctp_uncertainty_std              (time, lat, lon) float64 42.68 52.39 ...\n",
       "    lwp_std                          (time, lat, lon) float64 207.5 190.6 ..."
      ]
     },
     "execution_count": 9,
     "metadata": {},
     "output_type": "execute_result"
    }
   ],
   "source": [
    "clouds2007"
   ]
  },
  {
   "cell_type": "code",
   "execution_count": null,
   "metadata": {
    "collapsed": true
   },
   "outputs": [],
   "source": []
  }
 ],
 "metadata": {
  "kernelspec": {
   "display_name": "Python 3",
   "language": "python",
   "name": "python3"
  },
  "language_info": {
   "codemirror_mode": {
    "name": "ipython",
    "version": 3
   },
   "file_extension": ".py",
   "mimetype": "text/x-python",
   "name": "python",
   "nbconvert_exporter": "python",
   "pygments_lexer": "ipython3",
   "version": "3.5.0rc4"
  }
 },
 "nbformat": 4,
 "nbformat_minor": 0
}
