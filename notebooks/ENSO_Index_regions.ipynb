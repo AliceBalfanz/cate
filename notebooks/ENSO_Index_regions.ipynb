{
 "cells": [
  {
   "cell_type": "code",
   "execution_count": null,
   "metadata": {
    "collapsed": true,
    "deletable": true,
    "editable": true
   },
   "outputs": [],
   "source": [
    "from cate.core.ds import DATA_STORE_REGISTRY\n",
    "from cate.util import ConsoleMonitor\n",
    "import cate.ops as ops\n",
    "\n",
    "monitor = ConsoleMonitor()\n",
    "cc = ops.open_dataset('esacci.CLOUD.mon.L3C.CLD_PRODUCTS.AVHRR.NOAA-17.AVHRR_NOAA.1-0.r1',\n",
    "                      '2007-01-01',\n",
    "                      '2007-12-31', sync=True, monitor=monitor)\n",
    "oz = ops.open_dataset('esacci.OZONE.mon.L3.NP.multi-sensor.multi-platform.MERGED.fv0002.r1',\n",
    "                      '2007-01-01',\n",
    "                      '2007-12-21', sync=True, monitor=monitor)\n",
    "cc_tot = ops.select_var(cc, 'cc_total')\n",
    "oz_tot = ops.select_var(oz, 'O3_du_tot')\n",
    "cc_tot_res = ops.coregister(oz_tot, cc_tot)"
   ]
  },
  {
   "cell_type": "code",
   "execution_count": null,
   "metadata": {
    "collapsed": false,
    "deletable": true,
    "editable": true
   },
   "outputs": [],
   "source": [
    "cc_tot_n34 = ops.subset_spatial(cc_tot_res, '-170, -5, -120, 5')\n",
    "%matplotlib inline\n",
    "ops.plot_map(cc_tot_n34, var='cc_total', time=0)"
   ]
  },
  {
   "cell_type": "code",
   "execution_count": null,
   "metadata": {
    "collapsed": false,
    "deletable": true,
    "editable": true
   },
   "outputs": [],
   "source": [
    "cc_tot_n3 = ops.subset_spatial(cc_tot_res, '-150, -5, -90, 5')\n",
    "ops.plot_map(cc_tot_n3, var='cc_total', time=0)"
   ]
  },
  {
   "cell_type": "code",
   "execution_count": null,
   "metadata": {
    "collapsed": false,
    "deletable": true,
    "editable": true
   },
   "outputs": [],
   "source": [
    "# Needs the changes from PR #157\n",
    "cc_tot_n4 = ops.subset_spatial(cc_tot_res, '160, -5, -150, 5')\n",
    "ops.plot_map(cc_tot_n4, var='cc_total', time=0)"
   ]
  },
  {
   "cell_type": "code",
   "execution_count": null,
   "metadata": {
    "collapsed": false,
    "deletable": true,
    "editable": true
   },
   "outputs": [],
   "source": [
    "cc_tot_n12 = ops.subset_spatial(cc_tot_res, '-90, -10, -80, 0')\n",
    "ops.plot_map(cc_tot_n12, var='cc_total', time=0)"
   ]
  },
  {
   "cell_type": "code",
   "execution_count": null,
   "metadata": {
    "collapsed": true,
    "deletable": true,
    "editable": true
   },
   "outputs": [],
   "source": []
  }
 ],
 "metadata": {
  "kernelspec": {
   "display_name": "Python 3",
   "language": "python",
   "name": "python3"
  },
  "language_info": {
   "codemirror_mode": {
    "name": "ipython",
    "version": 3
   },
   "file_extension": ".py",
   "mimetype": "text/x-python",
   "name": "python",
   "nbconvert_exporter": "python",
   "pygments_lexer": "ipython3",
   "version": "3.5.3"
  }
 },
 "nbformat": 4,
 "nbformat_minor": 2
}
