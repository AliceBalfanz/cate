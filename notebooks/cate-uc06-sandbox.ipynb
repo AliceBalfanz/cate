{
 "cells": [
  {
   "cell_type": "markdown",
   "metadata": {},
   "source": [
    "### 1. Read data (SST, Soil Moisture). This includes temporal subsetting."
   ]
  },
  {
   "cell_type": "code",
   "execution_count": 1,
   "metadata": {
    "collapsed": true
   },
   "outputs": [],
   "source": [
    "from cate.core.ds import DATA_STORE_REGISTRY\n",
    "from cate.core.monitor import ConsoleMonitor\n",
    "import cate.ops as ops\n",
    "\n",
    "monitor = ConsoleMonitor()\n",
    "data_store = DATA_STORE_REGISTRY.get_data_store('esa_cci_odp')"
   ]
  },
  {
   "cell_type": "code",
   "execution_count": 2,
   "metadata": {
    "collapsed": false
   },
   "outputs": [
    {
     "data": {
      "text/plain": [
       "[esacci.GHRSST.second.L3U.SSTskin.AATSR.Envisat.AATSR.1-0.r1,\n",
       " esacci.GHRSST.second.L3U.SSTskin.AATSR.Envisat.AATSR.1-1.r1,\n",
       " esacci.SST.day.L4.SSTdepth.multi-sensor.multi-platform.OSTIA.1-1.r1,\n",
       " esacci.SST.day.L4.SSTdepth.multi-sensor.multi-platform.OSTIA.1-0.r1,\n",
       " esacci.GHRSST.second.L2P.SSTskin.AVHRR.NOAA-12.AVHRR12_G.1-0.r1]"
      ]
     },
     "execution_count": 2,
     "metadata": {},
     "output_type": "execute_result"
    }
   ],
   "source": [
    "data_store.query('sst')"
   ]
  },
  {
   "cell_type": "code",
   "execution_count": 3,
   "metadata": {
    "collapsed": false
   },
   "outputs": [
    {
     "data": {
      "text/plain": [
       "[esacci.SOILMOISTURE.day.L3S.SSMV.multi-sensor.multi-platform.COMBINED.02-2.r1,\n",
       " esacci.SOILMOISTURE.day.L3S.SSMV.multi-sensor.multi-platform.PASSIVE.02-2.r1,\n",
       " esacci.SOILMOISTURE.day.L3S.SSMS.multi-sensor.multi-platform.ACTIVE.02-2.r1,\n",
       " esacci.SOILMOISTURE.day.L3S.SSMV.multi-sensor.multi-platform.COMBINED.02-1.r1,\n",
       " esacci.SOILMOISTURE.day.L3S.SSMV.multi-sensor.multi-platform.PASSIVE.02-1.r1,\n",
       " esacci.SOILMOISTURE.day.L3S.SSMS.multi-sensor.multi-platform.ACTIVE.02-1.r1]"
      ]
     },
     "execution_count": 3,
     "metadata": {},
     "output_type": "execute_result"
    }
   ],
   "source": [
    "data_store.query('soil')"
   ]
  },
  {
   "cell_type": "code",
   "execution_count": null,
   "metadata": {
    "collapsed": false
   },
   "outputs": [],
   "source": [
    "sm = ops.open_dataset('esacci.SOILMOISTURE.day.L3S.SSMV.multi-sensor.multi-platform.COMBINED.02-2.r1',\n",
    "                       '2000-01-01',\n",
    "                       '2003-12-31', sync=True, monitor=monitor)"
   ]
  },
  {
   "cell_type": "code",
   "execution_count": 4,
   "metadata": {
    "collapsed": false
   },
   "outputs": [
    {
     "ename": "OSError",
     "evalue": "Too many open files",
     "output_type": "error",
     "traceback": [
      "\u001b[1;31m---------------------------------------------------------------------------\u001b[0m",
      "\u001b[1;31mOSError\u001b[0m                                   Traceback (most recent call last)",
      "\u001b[1;32m<ipython-input-4-4297c58aacd4>\u001b[0m in \u001b[0;36m<module>\u001b[1;34m()\u001b[0m\n\u001b[0;32m      1\u001b[0m sst = ops.open_dataset('esacci.SST.day.L4.SSTdepth.multi-sensor.multi-platform.OSTIA.1-1.r1',\n\u001b[0;32m      2\u001b[0m                        \u001b[1;34m'2000-01-01'\u001b[0m\u001b[1;33m,\u001b[0m\u001b[1;33m\u001b[0m\u001b[0m\n\u001b[1;32m----> 3\u001b[1;33m                        '2002-12-31', sync=True, monitor=monitor)\n\u001b[0m",
      "\u001b[1;32m/home/ccitbx/Development/cate-core/cate/ops/io.py\u001b[0m in \u001b[0;36mopen_dataset\u001b[1;34m(ds_name, start_date, end_date, sync, monitor)\u001b[0m\n",
      "\u001b[1;32m/home/ccitbx/Development/cate-core/cate/core/ds.py\u001b[0m in \u001b[0;36mopen_dataset\u001b[1;34m(data_source, start_date, end_date, sync, monitor)\u001b[0m\n",
      "\u001b[1;32m/home/ccitbx/Development/cate-core/cate/ds/esa_cci_odp.py\u001b[0m in \u001b[0;36mopen_dataset\u001b[1;34m(self, time_range)\u001b[0m\n",
      "\u001b[1;32m/home/ccitbx/Development/cate-core/cate/core/ds.py\u001b[0m in \u001b[0;36mopen_xarray_dataset\u001b[1;34m(paths, concat_dim, **kwargs)\u001b[0m\n",
      "\u001b[1;32m/home/ccitbx/miniconda3/envs/ect_env/lib/python3.5/site-packages/xarray-0.8.2-py3.5.egg/xarray/backends/api.py\u001b[0m in \u001b[0;36mopen_mfdataset\u001b[1;34m(paths, chunks, concat_dim, preprocess, engine, lock, **kwargs)\u001b[0m\n",
      "\u001b[1;32m/home/ccitbx/miniconda3/envs/ect_env/lib/python3.5/site-packages/xarray-0.8.2-py3.5.egg/xarray/backends/api.py\u001b[0m in \u001b[0;36m<listcomp>\u001b[1;34m(.0)\u001b[0m\n",
      "\u001b[1;32m/home/ccitbx/miniconda3/envs/ect_env/lib/python3.5/site-packages/xarray-0.8.2-py3.5.egg/xarray/backends/api.py\u001b[0m in \u001b[0;36mopen_dataset\u001b[1;34m(filename_or_obj, group, decode_cf, mask_and_scale, decode_times, concat_characters, decode_coords, engine, chunks, lock, drop_variables)\u001b[0m\n",
      "\u001b[1;32m/home/ccitbx/miniconda3/envs/ect_env/lib/python3.5/site-packages/xarray-0.8.2-py3.5.egg/xarray/backends/netCDF4_.py\u001b[0m in \u001b[0;36m__init__\u001b[1;34m(self, filename, mode, format, group, writer, clobber, diskless, persist)\u001b[0m\n",
      "\u001b[1;32mnetCDF4/_netCDF4.pyx\u001b[0m in \u001b[0;36mnetCDF4._netCDF4.Dataset.__init__ (netCDF4/_netCDF4.c:12262)\u001b[1;34m()\u001b[0m\n",
      "\u001b[1;31mOSError\u001b[0m: Too many open files"
     ]
    }
   ],
   "source": [
    "sst = ops.open_dataset('esacci.SST.day.L4.SSTdepth.multi-sensor.multi-platform.OSTIA.1-1.r1',\n",
    "                       '2000-01-01',\n",
    "                       '2002-12-31', sync=True, monitor=monitor)"
   ]
  },
  {
   "cell_type": "markdown",
   "metadata": {},
   "source": [
    "### 2. Select required geophysical quantities (sea surface temperature, surface soil moisture volumetric absolutes), this should keep associated uncertainties"
   ]
  },
  {
   "cell_type": "markdown",
   "metadata": {},
   "source": [
    "### 3. Co-register data sets (spline, propagate uncertainties)"
   ]
  },
  {
   "cell_type": "markdown",
   "metadata": {},
   "source": [
    "### 4. Calculate N3.4 index"
   ]
  },
  {
   "cell_type": "markdown",
   "metadata": {},
   "source": [
    "### 5. Log transformation of soil moisture data"
   ]
  },
  {
   "cell_type": "markdown",
   "metadata": {},
   "source": [
    "### 6. absolute anomaly of log transformed SM data with respect to mean of reference period"
   ]
  },
  {
   "cell_type": "markdown",
   "metadata": {
    "collapsed": true
   },
   "source": [
    "### 7. Pearson correlation with 30 days lag time (between ENSO index and soil moisture)"
   ]
  },
  {
   "cell_type": "markdown",
   "metadata": {},
   "source": [
    "### 8. Select a point in South-East Asia"
   ]
  },
  {
   "cell_type": "markdown",
   "metadata": {},
   "source": [
    "### 9. Pearson correlation with 30 days lag time"
   ]
  }
 ],
 "metadata": {
  "kernelspec": {
   "display_name": "Python 3",
   "language": "python",
   "name": "python3"
  },
  "language_info": {
   "codemirror_mode": {
    "name": "ipython",
    "version": 3
   },
   "file_extension": ".py",
   "mimetype": "text/x-python",
   "name": "python",
   "nbconvert_exporter": "python",
   "pygments_lexer": "ipython3",
   "version": "3.5.2"
  }
 },
 "nbformat": 4,
 "nbformat_minor": 0
}
