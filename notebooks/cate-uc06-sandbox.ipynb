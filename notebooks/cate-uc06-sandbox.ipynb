{
 "cells": [
  {
   "cell_type": "markdown",
   "metadata": {},
   "source": [
    "### 1. Read data (SST, Soil Moisture). This includes temporal subsetting."
   ]
  },
  {
   "cell_type": "code",
   "execution_count": 1,
   "metadata": {
    "collapsed": true
   },
   "outputs": [],
   "source": [
    "from cate.core.ds import DATA_STORE_REGISTRY\n",
    "from cate.core.monitor import ConsoleMonitor\n",
    "import cate.ops as ops\n",
    "\n",
    "monitor = ConsoleMonitor()\n",
    "data_store = DATA_STORE_REGISTRY.get_data_store('esa_cci_odp')"
   ]
  },
  {
   "cell_type": "code",
   "execution_count": 2,
   "metadata": {
    "collapsed": false
   },
   "outputs": [
    {
     "data": {
      "text/plain": [
       "[esacci.GHRSST.second.L3U.SSTskin.AATSR.Envisat.AATSR.1-0.r1,\n",
       " esacci.GHRSST.second.L3U.SSTskin.AATSR.Envisat.AATSR.1-1.r1,\n",
       " esacci.SST.day.L4.SSTdepth.multi-sensor.multi-platform.OSTIA.1-1.r1,\n",
       " esacci.SST.day.L4.SSTdepth.multi-sensor.multi-platform.OSTIA.1-0.r1,\n",
       " esacci.GHRSST.second.L2P.SSTskin.AVHRR.NOAA-12.AVHRR12_G.1-0.r1]"
      ]
     },
     "execution_count": 2,
     "metadata": {},
     "output_type": "execute_result"
    }
   ],
   "source": [
    "data_store.query('sst')"
   ]
  },
  {
   "cell_type": "code",
   "execution_count": 3,
   "metadata": {
    "collapsed": false
   },
   "outputs": [
    {
     "data": {
      "text/plain": [
       "[esacci.SOILMOISTURE.day.L3S.SSMV.multi-sensor.multi-platform.COMBINED.02-2.r1,\n",
       " esacci.SOILMOISTURE.day.L3S.SSMV.multi-sensor.multi-platform.PASSIVE.02-2.r1,\n",
       " esacci.SOILMOISTURE.day.L3S.SSMS.multi-sensor.multi-platform.ACTIVE.02-2.r1,\n",
       " esacci.SOILMOISTURE.day.L3S.SSMV.multi-sensor.multi-platform.COMBINED.02-1.r1,\n",
       " esacci.SOILMOISTURE.day.L3S.SSMV.multi-sensor.multi-platform.PASSIVE.02-1.r1,\n",
       " esacci.SOILMOISTURE.day.L3S.SSMS.multi-sensor.multi-platform.ACTIVE.02-1.r1]"
      ]
     },
     "execution_count": 3,
     "metadata": {},
     "output_type": "execute_result"
    }
   ],
   "source": [
    "data_store.query('soil')"
   ]
  },
  {
   "cell_type": "code",
   "execution_count": 4,
   "metadata": {
    "collapsed": false
   },
   "outputs": [],
   "source": [
    "sm = ops.open_dataset('esacci.SOILMOISTURE.day.L3S.SSMV.multi-sensor.multi-platform.COMBINED.02-2.r1',\n",
    "                       '2000-01-01',\n",
    "                       '2000-02-29', sync=True, monitor=monitor)"
   ]
  },
  {
   "cell_type": "code",
   "execution_count": 5,
   "metadata": {
    "collapsed": false,
    "scrolled": true
   },
   "outputs": [],
   "source": [
    "sst = ops.open_dataset('esacci.SST.day.L4.SSTdepth.multi-sensor.multi-platform.OSTIA.1-1.r1',\n",
    "                       '2000-01-01',\n",
    "                       '2000-02-29', sync=True, monitor=monitor)"
   ]
  },
  {
   "cell_type": "code",
   "execution_count": 6,
   "metadata": {
    "collapsed": false
   },
   "outputs": [
    {
     "data": {
      "text/plain": [
       "<xarray.Dataset>\n",
       "Dimensions:                 (bnds: 2, lat: 3600, lon: 7200, time: 60)\n",
       "Coordinates:\n",
       "  * lat                     (lat) float32 -89.975 -89.925 -89.875 -89.825 ...\n",
       "  * lon                     (lon) float32 -179.975 -179.925 -179.875 ...\n",
       "  * bnds                    (bnds) int64 0 1\n",
       "  * time                    (time) datetime64[ns] 2000-01-01T12:00:00 ...\n",
       "Data variables:\n",
       "    mask                    (time, lat, lon) float64 2.0 2.0 2.0 2.0 2.0 2.0 ...\n",
       "    sea_ice_fraction        (time, lat, lon) float64 nan nan nan nan nan nan ...\n",
       "    lon_bnds                (time, lon, bnds) float32 -180.0 -179.95 -179.95 ...\n",
       "    lat_bnds                (time, lat, bnds) float32 -90.0 -89.95 -89.95 ...\n",
       "    analysis_error          (time, lat, lon) float64 nan nan nan nan nan nan ...\n",
       "    time_bnds               (time, bnds) datetime64[ns] 2000-01-01 ...\n",
       "    sea_ice_fraction_error  (time, lat, lon) float64 nan nan nan nan nan nan ...\n",
       "    analysed_sst            (time, lat, lon) float64 nan nan nan nan nan nan ..."
      ]
     },
     "execution_count": 6,
     "metadata": {},
     "output_type": "execute_result"
    }
   ],
   "source": [
    "sst"
   ]
  },
  {
   "cell_type": "code",
   "execution_count": 6,
   "metadata": {
    "collapsed": false
   },
   "outputs": [
    {
     "data": {
      "text/plain": [
       "[(1, <xarray.Dataset>\n",
       "  Dimensions:                 (bnds: 2, lat: 3600, lon: 7200, time: 31)\n",
       "  Coordinates:\n",
       "    * lat                     (lat) float32 -89.975 -89.925 -89.875 -89.825 ...\n",
       "    * lon                     (lon) float32 -179.975 -179.925 -179.875 ...\n",
       "    * bnds                    (bnds) int64 0 1\n",
       "    * time                    (time) datetime64[ns] 2000-01-01T12:00:00 ...\n",
       "  Data variables:\n",
       "      mask                    (time, lat, lon) float64 2.0 2.0 2.0 2.0 2.0 2.0 ...\n",
       "      analysed_sst            (time, lat, lon) float64 nan nan nan nan nan nan ...\n",
       "      lon_bnds                (time, lon, bnds) float32 -180.0 -179.95 -179.95 ...\n",
       "      sea_ice_fraction        (time, lat, lon) float64 nan nan nan nan nan nan ...\n",
       "      time_bnds               (time, bnds) datetime64[ns] 2000-01-01 ...\n",
       "      lat_bnds                (time, lat, bnds) float32 -90.0 -89.95 -89.95 ...\n",
       "      analysis_error          (time, lat, lon) float64 nan nan nan nan nan nan ...\n",
       "      sea_ice_fraction_error  (time, lat, lon) float64 nan nan nan nan nan nan ...),\n",
       " (2, <xarray.Dataset>\n",
       "  Dimensions:                 (bnds: 2, lat: 3600, lon: 7200, time: 29)\n",
       "  Coordinates:\n",
       "    * lat                     (lat) float32 -89.975 -89.925 -89.875 -89.825 ...\n",
       "    * lon                     (lon) float32 -179.975 -179.925 -179.875 ...\n",
       "    * bnds                    (bnds) int64 0 1\n",
       "    * time                    (time) datetime64[ns] 2000-02-01T12:00:00 ...\n",
       "  Data variables:\n",
       "      mask                    (time, lat, lon) float64 2.0 2.0 2.0 2.0 2.0 2.0 ...\n",
       "      analysed_sst            (time, lat, lon) float64 nan nan nan nan nan nan ...\n",
       "      lon_bnds                (time, lon, bnds) float32 -180.0 -179.95 -179.95 ...\n",
       "      sea_ice_fraction        (time, lat, lon) float64 nan nan nan nan nan nan ...\n",
       "      time_bnds               (time, bnds) datetime64[ns] 2000-02-01 ...\n",
       "      lat_bnds                (time, lat, bnds) float32 -90.0 -89.95 -89.95 ...\n",
       "      analysis_error          (time, lat, lon) float64 nan nan nan nan nan nan ...\n",
       "      sea_ice_fraction_error  (time, lat, lon) float64 nan nan nan nan nan nan ...)]"
      ]
     },
     "execution_count": 6,
     "metadata": {},
     "output_type": "execute_result"
    }
   ],
   "source": [
    "list(sst.groupby('time.month'))"
   ]
  },
  {
   "cell_type": "code",
   "execution_count": 12,
   "metadata": {
    "collapsed": false
   },
   "outputs": [
    {
     "data": {
      "text/plain": [
       "57.940584287047386"
      ]
     },
     "execution_count": 12,
     "metadata": {},
     "output_type": "execute_result"
    }
   ],
   "source": [
    "sst.nbytes / (2 ** 30)"
   ]
  },
  {
   "cell_type": "code",
   "execution_count": 10,
   "metadata": {
    "collapsed": false
   },
   "outputs": [],
   "source": [
    "sm_mean = sm.groupby('time.month').mean('time', skipna=True)"
   ]
  },
  {
   "cell_type": "code",
   "execution_count": 11,
   "metadata": {
    "collapsed": false
   },
   "outputs": [
    {
     "name": "stderr",
     "output_type": "stream",
     "text": [
      "/home/ccitbx/miniconda3/envs/ect_env/lib/python3.5/site-packages/dask/array/numpy_compat.py:44: RuntimeWarning: invalid value encountered in true_divide\n",
      "  x = np.divide(x1, x2, out)\n"
     ]
    },
    {
     "data": {
      "text/plain": [
       "<xarray.Dataset>\n",
       "Dimensions:         (lat: 720, lon: 1440, month: 2)\n",
       "Coordinates:\n",
       "  * lon             (lon) float32 -179.875 -179.625 -179.375 -179.125 ...\n",
       "  * lat             (lat) float32 89.875 89.625 89.375 89.125 88.875 88.625 ...\n",
       "  * month           (month) int64 1 2\n",
       "Data variables:\n",
       "    flag            (month, lat, lon) float64 nan nan nan nan nan nan nan ...\n",
       "    dnflag          (month, lat, lon) float64 nan nan nan nan nan nan nan ...\n",
       "    sensor          (month, lat, lon) float64 nan nan nan nan nan nan nan ...\n",
       "    freqband        (month, lat, lon) float64 nan nan nan nan nan nan nan ...\n",
       "    mode            (month, lat, lon) float64 nan nan nan nan nan nan nan ...\n",
       "    sm              (month, lat, lon) float64 nan nan nan nan nan nan nan ...\n",
       "    sm_uncertainty  (month, lat, lon) float64 nan nan nan nan nan nan nan ..."
      ]
     },
     "execution_count": 11,
     "metadata": {},
     "output_type": "execute_result"
    }
   ],
   "source": [
    "sm_mean"
   ]
  },
  {
   "cell_type": "code",
   "execution_count": 12,
   "metadata": {
    "collapsed": false
   },
   "outputs": [
    {
     "data": {
      "text/plain": [
       "<xarray.Dataset>\n",
       "Dimensions:         (lat: 720, lon: 1440, time: 60)\n",
       "Coordinates:\n",
       "  * lon             (lon) float32 -179.875 -179.625 -179.375 -179.125 ...\n",
       "  * lat             (lat) float32 89.875 89.625 89.375 89.125 88.875 88.625 ...\n",
       "  * time            (time) datetime64[ns] 2000-01-01 2000-01-02 2000-01-03 ...\n",
       "Data variables:\n",
       "    flag            (time, lat, lon) float64 nan nan nan nan nan nan nan nan ...\n",
       "    sensor          (time, lat, lon) float64 nan nan nan nan nan nan nan nan ...\n",
       "    freqband        (time, lat, lon) float64 nan nan nan nan nan nan nan nan ...\n",
       "    t0              (time, lat, lon) datetime64[ns] NaT NaT NaT NaT NaT NaT ...\n",
       "    sm              (time, lat, lon) float64 nan nan nan nan nan nan nan nan ...\n",
       "    mode            (time, lat, lon) float64 nan nan nan nan nan nan nan nan ...\n",
       "    dnflag          (time, lat, lon) float64 nan nan nan nan nan nan nan nan ...\n",
       "    sm_uncertainty  (time, lat, lon) float64 nan nan nan nan nan nan nan nan ..."
      ]
     },
     "execution_count": 12,
     "metadata": {},
     "output_type": "execute_result"
    }
   ],
   "source": [
    "sm"
   ]
  },
  {
   "cell_type": "code",
   "execution_count": 16,
   "metadata": {
    "collapsed": false
   },
   "outputs": [],
   "source": [
    "sm_rech = sm.chunk(chunks={'time':60, 'lat': 72, 'lon': 144})"
   ]
  },
  {
   "cell_type": "code",
   "execution_count": 17,
   "metadata": {
    "collapsed": false
   },
   "outputs": [
    {
     "data": {
      "text/plain": [
       "dask.array<rechunk..., shape=(60, 720, 1440), dtype=float64, chunksize=(60, 72, 144)>"
      ]
     },
     "execution_count": 17,
     "metadata": {},
     "output_type": "execute_result"
    }
   ],
   "source": [
    "sm_rech.sm.data"
   ]
  },
  {
   "cell_type": "code",
   "execution_count": 20,
   "metadata": {
    "collapsed": false
   },
   "outputs": [],
   "source": [
    "sm_monthly = sm_rech.groupby('time.month').mean('time')"
   ]
  },
  {
   "cell_type": "code",
   "execution_count": null,
   "metadata": {
    "collapsed": true
   },
   "outputs": [],
   "source": []
  },
  {
   "cell_type": "code",
   "execution_count": null,
   "metadata": {
    "collapsed": true
   },
   "outputs": [],
   "source": [
    "sm_res = sm_rech.resample('M','time',skipna=True)"
   ]
  },
  {
   "cell_type": "code",
   "execution_count": null,
   "metadata": {
    "collapsed": false
   },
   "outputs": [],
   "source": [
    "sm_res"
   ]
  },
  {
   "cell_type": "code",
   "execution_count": null,
   "metadata": {
    "collapsed": false
   },
   "outputs": [],
   "source": [
    "sst.load()"
   ]
  },
  {
   "cell_type": "code",
   "execution_count": null,
   "metadata": {
    "collapsed": false
   },
   "outputs": [],
   "source": [
    "sst_rech = sst.chunk(chunks = {'lat':360, 'lon':720, 'time':60})"
   ]
  },
  {
   "cell_type": "code",
   "execution_count": null,
   "metadata": {
    "collapsed": true
   },
   "outputs": [],
   "source": [
    "sst_res = sst_rech.resample('M', 'time', skipna=True)"
   ]
  },
  {
   "cell_type": "code",
   "execution_count": null,
   "metadata": {
    "collapsed": false
   },
   "outputs": [],
   "source": [
    "sst_res"
   ]
  },
  {
   "cell_type": "markdown",
   "metadata": {},
   "source": [
    "### 2. Select required geophysical quantities (sea surface temperature, surface soil moisture volumetric absolutes), this should keep associated uncertainties"
   ]
  },
  {
   "cell_type": "code",
   "execution_count": null,
   "metadata": {
    "collapsed": false
   },
   "outputs": [],
   "source": [
    "sm = ops.select_var(sm, 'sm')\n",
    "sst = ops.select_var(sst, 'analysed_sst')"
   ]
  },
  {
   "cell_type": "code",
   "execution_count": null,
   "metadata": {
    "collapsed": false
   },
   "outputs": [],
   "source": [
    "sst"
   ]
  },
  {
   "cell_type": "code",
   "execution_count": null,
   "metadata": {
    "collapsed": false
   },
   "outputs": [],
   "source": [
    "sst_rech = sst.chunk(chunks={'lat':400, 'lon':400, 'time':60})"
   ]
  },
  {
   "cell_type": "code",
   "execution_count": null,
   "metadata": {
    "collapsed": false
   },
   "outputs": [],
   "source": [
    "sst_rech.resample('M','time',skipna=True)"
   ]
  },
  {
   "cell_type": "code",
   "execution_count": null,
   "metadata": {
    "collapsed": true
   },
   "outputs": [],
   "source": [
    "sm_mean = sm.groupby('time').mean()"
   ]
  },
  {
   "cell_type": "code",
   "execution_count": null,
   "metadata": {
    "collapsed": false
   },
   "outputs": [],
   "source": [
    "sm_mean.sm"
   ]
  },
  {
   "cell_type": "code",
   "execution_count": null,
   "metadata": {
    "collapsed": true
   },
   "outputs": [],
   "source": [
    "sst_mean = sm.groupby('time').mean()"
   ]
  },
  {
   "cell_type": "code",
   "execution_count": null,
   "metadata": {
    "collapsed": false
   },
   "outputs": [],
   "source": [
    "sst_mean"
   ]
  },
  {
   "cell_type": "code",
   "execution_count": null,
   "metadata": {
    "collapsed": true
   },
   "outputs": [],
   "source": [
    "%matplotlib inline"
   ]
  },
  {
   "cell_type": "code",
   "execution_count": null,
   "metadata": {
    "collapsed": false
   },
   "outputs": [],
   "source": [
    "#ops.plot_map(sm, var='sm', time=2)"
   ]
  },
  {
   "cell_type": "code",
   "execution_count": null,
   "metadata": {
    "collapsed": false
   },
   "outputs": [],
   "source": [
    "#ops.plot_map(sst, var='analysed_sst', time=0)"
   ]
  },
  {
   "cell_type": "markdown",
   "metadata": {},
   "source": [
    "### 3. Temporal aggregation"
   ]
  },
  {
   "cell_type": "code",
   "execution_count": null,
   "metadata": {
    "collapsed": false
   },
   "outputs": [],
   "source": [
    "sst_monthly = sst.resample('M','time', skipna=True)"
   ]
  },
  {
   "cell_type": "code",
   "execution_count": null,
   "metadata": {
    "collapsed": true
   },
   "outputs": [],
   "source": [
    "sst_monthly"
   ]
  },
  {
   "cell_type": "code",
   "execution_count": null,
   "metadata": {
    "collapsed": true
   },
   "outputs": [],
   "source": [
    "sm_monthly = sm.resample('M', 'time', skipna=True)"
   ]
  },
  {
   "cell_type": "code",
   "execution_count": null,
   "metadata": {
    "collapsed": false
   },
   "outputs": [],
   "source": [
    "ops.plot_map(sm_monthly, var='sm', time=1)"
   ]
  },
  {
   "cell_type": "code",
   "execution_count": 7,
   "metadata": {
    "collapsed": false
   },
   "outputs": [
    {
     "data": {
      "text/plain": [
       "<xarray.Dataset>\n",
       "Dimensions:                 (bnds: 2, lat: 3600, lon: 7200, time: 60)\n",
       "Coordinates:\n",
       "  * lat                     (lat) float32 -89.975 -89.925 -89.875 -89.825 ...\n",
       "  * lon                     (lon) float32 -179.975 -179.925 -179.875 ...\n",
       "  * bnds                    (bnds) int64 0 1\n",
       "  * time                    (time) datetime64[ns] 2000-01-01T12:00:00 ...\n",
       "Data variables:\n",
       "    mask                    (time, lat, lon) float64 2.0 2.0 2.0 2.0 2.0 2.0 ...\n",
       "    sea_ice_fraction        (time, lat, lon) float64 nan nan nan nan nan nan ...\n",
       "    lon_bnds                (time, lon, bnds) float32 -180.0 -179.95 -179.95 ...\n",
       "    lat_bnds                (time, lat, bnds) float32 -90.0 -89.95 -89.95 ...\n",
       "    analysis_error          (time, lat, lon) float64 nan nan nan nan nan nan ...\n",
       "    time_bnds               (time, bnds) datetime64[ns] 2000-01-01 ...\n",
       "    sea_ice_fraction_error  (time, lat, lon) float64 nan nan nan nan nan nan ...\n",
       "    analysed_sst            (time, lat, lon) float64 nan nan nan nan nan nan ..."
      ]
     },
     "execution_count": 7,
     "metadata": {},
     "output_type": "execute_result"
    }
   ],
   "source": [
    "sst"
   ]
  },
  {
   "cell_type": "code",
   "execution_count": 13,
   "metadata": {
    "collapsed": false
   },
   "outputs": [],
   "source": [
    "sst_nt = ops.select_var(sst, 'a*,l*,m*,s*')"
   ]
  },
  {
   "cell_type": "code",
   "execution_count": 14,
   "metadata": {
    "collapsed": false
   },
   "outputs": [
    {
     "data": {
      "text/plain": [
       "<xarray.Dataset>\n",
       "Dimensions:                 (bnds: 2, lat: 3600, lon: 7200, time: 60)\n",
       "Coordinates:\n",
       "  * lat                     (lat) float32 -89.975 -89.925 -89.875 -89.825 ...\n",
       "  * lon                     (lon) float32 -179.975 -179.925 -179.875 ...\n",
       "  * bnds                    (bnds) int64 0 1\n",
       "  * time                    (time) datetime64[ns] 2000-01-01T12:00:00 ...\n",
       "Data variables:\n",
       "    mask                    (time, lat, lon) float64 2.0 2.0 2.0 2.0 2.0 2.0 ...\n",
       "    sea_ice_fraction        (time, lat, lon) float64 nan nan nan nan nan nan ...\n",
       "    lon_bnds                (time, lon, bnds) float32 -180.0 -179.95 -179.95 ...\n",
       "    lat_bnds                (time, lat, bnds) float32 -90.0 -89.95 -89.95 ...\n",
       "    analysis_error          (time, lat, lon) float64 nan nan nan nan nan nan ...\n",
       "    sea_ice_fraction_error  (time, lat, lon) float64 nan nan nan nan nan nan ...\n",
       "    analysed_sst            (time, lat, lon) float64 nan nan nan nan nan nan ..."
      ]
     },
     "execution_count": 14,
     "metadata": {},
     "output_type": "execute_result"
    }
   ],
   "source": [
    "sst_nt"
   ]
  },
  {
   "cell_type": "code",
   "execution_count": 21,
   "metadata": {
    "collapsed": false
   },
   "outputs": [
    {
     "ename": "TypeError",
     "evalue": "ufunc true_divide cannot use operands with types dtype('<M8[ns]') and dtype('int64')",
     "output_type": "error",
     "traceback": [
      "\u001b[1;31m---------------------------------------------------------------------------\u001b[0m",
      "\u001b[1;31mTypeError\u001b[0m                                 Traceback (most recent call last)",
      "\u001b[1;32m<ipython-input-21-2a7810cc2443>\u001b[0m in \u001b[0;36m<module>\u001b[1;34m()\u001b[0m\n\u001b[1;32m----> 1\u001b[1;33m \u001b[0msst\u001b[0m\u001b[1;33m/\u001b[0m\u001b[1;36m4\u001b[0m\u001b[1;33m\u001b[0m\u001b[0m\n\u001b[0m",
      "\u001b[1;32m/home/ccitbx/miniconda3/envs/ect_env/lib/python3.5/site-packages/xarray-0.8.2-py3.5.egg/xarray/core/dataset.py\u001b[0m in \u001b[0;36mfunc\u001b[1;34m(self, other)\u001b[0m\n\u001b[0;32m   2027\u001b[0m                 \u001b[0mself\u001b[0m\u001b[1;33m,\u001b[0m \u001b[0mother\u001b[0m \u001b[1;33m=\u001b[0m \u001b[0malign\u001b[0m\u001b[1;33m(\u001b[0m\u001b[0mself\u001b[0m\u001b[1;33m,\u001b[0m \u001b[0mother\u001b[0m\u001b[1;33m,\u001b[0m \u001b[0mjoin\u001b[0m\u001b[1;33m=\u001b[0m\u001b[0mjoin\u001b[0m\u001b[1;33m,\u001b[0m \u001b[0mcopy\u001b[0m\u001b[1;33m=\u001b[0m\u001b[1;32mFalse\u001b[0m\u001b[1;33m)\u001b[0m\u001b[1;33m\u001b[0m\u001b[0m\n\u001b[0;32m   2028\u001b[0m             \u001b[0mg\u001b[0m \u001b[1;33m=\u001b[0m \u001b[0mf\u001b[0m \u001b[1;32mif\u001b[0m \u001b[1;32mnot\u001b[0m \u001b[0mreflexive\u001b[0m \u001b[1;32melse\u001b[0m \u001b[1;32mlambda\u001b[0m \u001b[0mx\u001b[0m\u001b[1;33m,\u001b[0m \u001b[0my\u001b[0m\u001b[1;33m:\u001b[0m \u001b[0mf\u001b[0m\u001b[1;33m(\u001b[0m\u001b[0my\u001b[0m\u001b[1;33m,\u001b[0m \u001b[0mx\u001b[0m\u001b[1;33m)\u001b[0m\u001b[1;33m\u001b[0m\u001b[0m\n\u001b[1;32m-> 2029\u001b[1;33m             \u001b[0mds\u001b[0m \u001b[1;33m=\u001b[0m \u001b[0mself\u001b[0m\u001b[1;33m.\u001b[0m\u001b[0m_calculate_binary_op\u001b[0m\u001b[1;33m(\u001b[0m\u001b[0mg\u001b[0m\u001b[1;33m,\u001b[0m \u001b[0mother\u001b[0m\u001b[1;33m,\u001b[0m \u001b[0mfillna\u001b[0m\u001b[1;33m=\u001b[0m\u001b[0mfillna\u001b[0m\u001b[1;33m)\u001b[0m\u001b[1;33m\u001b[0m\u001b[0m\n\u001b[0m\u001b[0;32m   2030\u001b[0m             \u001b[1;32mreturn\u001b[0m \u001b[0mds\u001b[0m\u001b[1;33m\u001b[0m\u001b[0m\n\u001b[0;32m   2031\u001b[0m         \u001b[1;32mreturn\u001b[0m \u001b[0mfunc\u001b[0m\u001b[1;33m\u001b[0m\u001b[0m\n",
      "\u001b[1;32m/home/ccitbx/miniconda3/envs/ect_env/lib/python3.5/site-packages/xarray-0.8.2-py3.5.egg/xarray/core/dataset.py\u001b[0m in \u001b[0;36m_calculate_binary_op\u001b[1;34m(self, f, other, inplace, fillna)\u001b[0m\n\u001b[0;32m   2086\u001b[0m             \u001b[0mother_variable\u001b[0m \u001b[1;33m=\u001b[0m \u001b[0mgetattr\u001b[0m\u001b[1;33m(\u001b[0m\u001b[0mother\u001b[0m\u001b[1;33m,\u001b[0m \u001b[1;34m'variable'\u001b[0m\u001b[1;33m,\u001b[0m \u001b[0mother\u001b[0m\u001b[1;33m)\u001b[0m\u001b[1;33m\u001b[0m\u001b[0m\n\u001b[0;32m   2087\u001b[0m             new_vars = OrderedDict((k, f(self.variables[k], other_variable))\n\u001b[1;32m-> 2088\u001b[1;33m                                    for k in self.data_vars)\n\u001b[0m\u001b[0;32m   2089\u001b[0m \u001b[1;33m\u001b[0m\u001b[0m\n\u001b[0;32m   2090\u001b[0m         \u001b[0mds\u001b[0m\u001b[1;33m.\u001b[0m\u001b[0m_variables\u001b[0m\u001b[1;33m.\u001b[0m\u001b[0mupdate\u001b[0m\u001b[1;33m(\u001b[0m\u001b[0mnew_vars\u001b[0m\u001b[1;33m)\u001b[0m\u001b[1;33m\u001b[0m\u001b[0m\n",
      "\u001b[1;32m/home/ccitbx/miniconda3/envs/ect_env/lib/python3.5/site-packages/xarray-0.8.2-py3.5.egg/xarray/core/dataset.py\u001b[0m in \u001b[0;36m<genexpr>\u001b[1;34m(.0)\u001b[0m\n\u001b[0;32m   2086\u001b[0m             \u001b[0mother_variable\u001b[0m \u001b[1;33m=\u001b[0m \u001b[0mgetattr\u001b[0m\u001b[1;33m(\u001b[0m\u001b[0mother\u001b[0m\u001b[1;33m,\u001b[0m \u001b[1;34m'variable'\u001b[0m\u001b[1;33m,\u001b[0m \u001b[0mother\u001b[0m\u001b[1;33m)\u001b[0m\u001b[1;33m\u001b[0m\u001b[0m\n\u001b[0;32m   2087\u001b[0m             new_vars = OrderedDict((k, f(self.variables[k], other_variable))\n\u001b[1;32m-> 2088\u001b[1;33m                                    for k in self.data_vars)\n\u001b[0m\u001b[0;32m   2089\u001b[0m \u001b[1;33m\u001b[0m\u001b[0m\n\u001b[0;32m   2090\u001b[0m         \u001b[0mds\u001b[0m\u001b[1;33m.\u001b[0m\u001b[0m_variables\u001b[0m\u001b[1;33m.\u001b[0m\u001b[0mupdate\u001b[0m\u001b[1;33m(\u001b[0m\u001b[0mnew_vars\u001b[0m\u001b[1;33m)\u001b[0m\u001b[1;33m\u001b[0m\u001b[0m\n",
      "\u001b[1;32m/home/ccitbx/miniconda3/envs/ect_env/lib/python3.5/site-packages/xarray-0.8.2-py3.5.egg/xarray/core/variable.py\u001b[0m in \u001b[0;36mfunc\u001b[1;34m(self, other)\u001b[0m\n\u001b[0;32m   1044\u001b[0m             \u001b[0mself_data\u001b[0m\u001b[1;33m,\u001b[0m \u001b[0mother_data\u001b[0m\u001b[1;33m,\u001b[0m \u001b[0mdims\u001b[0m \u001b[1;33m=\u001b[0m \u001b[0m_broadcast_compat_data\u001b[0m\u001b[1;33m(\u001b[0m\u001b[0mself\u001b[0m\u001b[1;33m,\u001b[0m \u001b[0mother\u001b[0m\u001b[1;33m)\u001b[0m\u001b[1;33m\u001b[0m\u001b[0m\n\u001b[0;32m   1045\u001b[0m             new_data = (f(self_data, other_data)\n\u001b[1;32m-> 1046\u001b[1;33m                         \u001b[1;32mif\u001b[0m \u001b[1;32mnot\u001b[0m \u001b[0mreflexive\u001b[0m\u001b[1;33m\u001b[0m\u001b[0m\n\u001b[0m\u001b[0;32m   1047\u001b[0m                         else f(other_data, self_data))\n\u001b[0;32m   1048\u001b[0m             \u001b[0mresult\u001b[0m \u001b[1;33m=\u001b[0m \u001b[0mVariable\u001b[0m\u001b[1;33m(\u001b[0m\u001b[0mdims\u001b[0m\u001b[1;33m,\u001b[0m \u001b[0mnew_data\u001b[0m\u001b[1;33m)\u001b[0m\u001b[1;33m\u001b[0m\u001b[0m\n",
      "\u001b[1;32m/home/ccitbx/miniconda3/envs/ect_env/lib/python3.5/site-packages/dask/array/core.py\u001b[0m in \u001b[0;36m__truediv__\u001b[1;34m(self, other)\u001b[0m\n\u001b[0;32m   1111\u001b[0m         \u001b[1;32mreturn\u001b[0m \u001b[0melemwise\u001b[0m\u001b[1;33m(\u001b[0m\u001b[0moperator\u001b[0m\u001b[1;33m.\u001b[0m\u001b[0msub\u001b[0m\u001b[1;33m,\u001b[0m \u001b[0mother\u001b[0m\u001b[1;33m,\u001b[0m \u001b[0mself\u001b[0m\u001b[1;33m)\u001b[0m\u001b[1;33m\u001b[0m\u001b[0m\n\u001b[0;32m   1112\u001b[0m     \u001b[1;32mdef\u001b[0m \u001b[0m__truediv__\u001b[0m\u001b[1;33m(\u001b[0m\u001b[0mself\u001b[0m\u001b[1;33m,\u001b[0m \u001b[0mother\u001b[0m\u001b[1;33m)\u001b[0m\u001b[1;33m:\u001b[0m\u001b[1;33m\u001b[0m\u001b[0m\n\u001b[1;32m-> 1113\u001b[1;33m         \u001b[1;32mreturn\u001b[0m \u001b[0melemwise\u001b[0m\u001b[1;33m(\u001b[0m\u001b[0moperator\u001b[0m\u001b[1;33m.\u001b[0m\u001b[0mtruediv\u001b[0m\u001b[1;33m,\u001b[0m \u001b[0mself\u001b[0m\u001b[1;33m,\u001b[0m \u001b[0mother\u001b[0m\u001b[1;33m)\u001b[0m\u001b[1;33m\u001b[0m\u001b[0m\n\u001b[0m\u001b[0;32m   1114\u001b[0m     \u001b[1;32mdef\u001b[0m \u001b[0m__rtruediv__\u001b[0m\u001b[1;33m(\u001b[0m\u001b[0mself\u001b[0m\u001b[1;33m,\u001b[0m \u001b[0mother\u001b[0m\u001b[1;33m)\u001b[0m\u001b[1;33m:\u001b[0m\u001b[1;33m\u001b[0m\u001b[0m\n\u001b[0;32m   1115\u001b[0m         \u001b[1;32mreturn\u001b[0m \u001b[0melemwise\u001b[0m\u001b[1;33m(\u001b[0m\u001b[0moperator\u001b[0m\u001b[1;33m.\u001b[0m\u001b[0mtruediv\u001b[0m\u001b[1;33m,\u001b[0m \u001b[0mother\u001b[0m\u001b[1;33m,\u001b[0m \u001b[0mself\u001b[0m\u001b[1;33m)\u001b[0m\u001b[1;33m\u001b[0m\u001b[0m\n",
      "\u001b[1;32m/home/ccitbx/miniconda3/envs/ect_env/lib/python3.5/site-packages/dask/array/core.py\u001b[0m in \u001b[0;36melemwise\u001b[1;34m(op, *args, **kwargs)\u001b[0m\n\u001b[0;32m   2117\u001b[0m                 for a in args]\n\u001b[0;32m   2118\u001b[0m         \u001b[1;32mtry\u001b[0m\u001b[1;33m:\u001b[0m\u001b[1;33m\u001b[0m\u001b[0m\n\u001b[1;32m-> 2119\u001b[1;33m             \u001b[0mdt\u001b[0m \u001b[1;33m=\u001b[0m \u001b[0mop\u001b[0m\u001b[1;33m(\u001b[0m\u001b[1;33m*\u001b[0m\u001b[0mvals\u001b[0m\u001b[1;33m)\u001b[0m\u001b[1;33m.\u001b[0m\u001b[0mdtype\u001b[0m\u001b[1;33m\u001b[0m\u001b[0m\n\u001b[0m\u001b[0;32m   2120\u001b[0m         \u001b[1;32mexcept\u001b[0m \u001b[0mAttributeError\u001b[0m\u001b[1;33m:\u001b[0m\u001b[1;33m\u001b[0m\u001b[0m\n\u001b[0;32m   2121\u001b[0m             \u001b[0mdt\u001b[0m \u001b[1;33m=\u001b[0m \u001b[1;32mNone\u001b[0m\u001b[1;33m\u001b[0m\u001b[0m\n",
      "\u001b[1;31mTypeError\u001b[0m: ufunc true_divide cannot use operands with types dtype('<M8[ns]') and dtype('int64')"
     ]
    }
   ],
   "source": [
    "sst/4"
   ]
  },
  {
   "cell_type": "markdown",
   "metadata": {},
   "source": [
    "### 3. Co-register data sets (spline, propagate uncertainties)"
   ]
  },
  {
   "cell_type": "markdown",
   "metadata": {},
   "source": [
    "### 4. Calculate N3.4 index"
   ]
  },
  {
   "cell_type": "markdown",
   "metadata": {},
   "source": [
    "### 5. Log transformation of soil moisture data"
   ]
  },
  {
   "cell_type": "markdown",
   "metadata": {},
   "source": [
    "### 6. absolute anomaly of log transformed SM data with respect to mean of reference period"
   ]
  },
  {
   "cell_type": "markdown",
   "metadata": {
    "collapsed": true
   },
   "source": [
    "### 7. Pearson correlation with 30 days lag time (between ENSO index and soil moisture)"
   ]
  },
  {
   "cell_type": "markdown",
   "metadata": {},
   "source": [
    "### 8. Select a point in South-East Asia"
   ]
  },
  {
   "cell_type": "markdown",
   "metadata": {},
   "source": [
    "### 9. Pearson correlation with 30 days lag time"
   ]
  }
 ],
 "metadata": {
  "kernelspec": {
   "display_name": "Python 3",
   "language": "python",
   "name": "python3"
  },
  "language_info": {
   "codemirror_mode": {
    "name": "ipython",
    "version": 3
   },
   "file_extension": ".py",
   "mimetype": "text/x-python",
   "name": "python",
   "nbconvert_exporter": "python",
   "pygments_lexer": "ipython3",
   "version": "3.5.2"
  }
 },
 "nbformat": 4,
 "nbformat_minor": 0
}
