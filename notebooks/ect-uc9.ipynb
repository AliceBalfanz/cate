{
 "cells": [
  {
   "cell_type": "markdown",
   "metadata": {},
   "source": [
    "Use Case 9\n",
    "==========\n",
    "\n",
    "Problem Definition:\n",
    "-------------------\n",
    "\n",
    "    A climate scientist wishes to analyse potential correlations between Aerosol and Cloud ECVs.\n",
    "    \n",
    "Required Toolbox Features:\n",
    "--------------------------\n",
    "\n",
    "    * Access to and ingestion of ESA CCI Aerosol and Cloud data (Aerosol Optical Depth and Cloud Fraction)\n",
    "    * Geometric adjustments\n",
    "    * Spatial (point, polygon) and temporal subsetting\n",
    "    * Visualisation of both times series at the same time: e.g. time series plot, time series animation\n",
    "    * Correlation analysis, scatter-plot of correlation statistics, saving of image and correlation statistics on disk (format options)"
   ]
  },
  {
   "cell_type": "markdown",
   "metadata": {},
   "source": [
    "Ingest data and create datasets\n",
    "-------------------------------"
   ]
  },
  {
   "cell_type": "code",
   "execution_count": null,
   "metadata": {
    "collapsed": false,
    "scrolled": true
   },
   "outputs": [],
   "source": [
    "from ect.core.io import DATA_STORE_REGISTRY\n",
    "from ect.core.monitor import ConsoleMonitor\n",
    "import ect.ops\n",
    "\n",
    "data_store = DATA_STORE_REGISTRY.get_data_store('default')\n",
    "data_store"
   ]
  },
  {
   "cell_type": "code",
   "execution_count": null,
   "metadata": {
    "collapsed": false
   },
   "outputs": [],
   "source": [
    "data_source_aerosol = data_store.query('AEROSOL_AATSR_SU_L3_V4.21_MONTHLY')\n",
    "data_source_clouds = data_store.query('CLOUD_L3C_AVHRR_NOAA-16_PHASE1_V1.0')"
   ]
  },
  {
   "cell_type": "markdown",
   "metadata": {},
   "source": [
    "Retrieve data by synchronizing with the ftp server"
   ]
  },
  {
   "cell_type": "code",
   "execution_count": null,
   "metadata": {
    "collapsed": false
   },
   "outputs": [],
   "source": [
    "monitor = ConsoleMonitor()\n",
    "#data_source_aerosol[0].sync(('2007-01-01','2009-01-01'), monitor)"
   ]
  },
  {
   "cell_type": "code",
   "execution_count": null,
   "metadata": {
    "collapsed": false
   },
   "outputs": [],
   "source": [
    "#data_source_clouds[0].sync(('2007-01-01','2009-01-01'), monitor)"
   ]
  },
  {
   "cell_type": "code",
   "execution_count": null,
   "metadata": {
    "collapsed": false
   },
   "outputs": [],
   "source": [
    "time_range = tuple(['2008-01-01','2009-01-01'])\n",
    "dataset_aerosol = data_source_aerosol[0].open_dataset(time_range)\n",
    "dataset_clouds = data_source_clouds[0].open_dataset(time_range)"
   ]
  },
  {
   "cell_type": "code",
   "execution_count": null,
   "metadata": {
    "collapsed": false
   },
   "outputs": [],
   "source": [
    "print(dataset_clouds.dims)\n",
    "print(dataset_aerosol.dims)"
   ]
  },
  {
   "cell_type": "code",
   "execution_count": null,
   "metadata": {
    "collapsed": false
   },
   "outputs": [],
   "source": [
    "print(dataset_clouds.data_vars)"
   ]
  },
  {
   "cell_type": "markdown",
   "metadata": {},
   "source": [
    "Filter datasets to select the desired variables\n",
    "-----------------------------------------------"
   ]
  },
  {
   "cell_type": "code",
   "execution_count": null,
   "metadata": {
    "collapsed": false
   },
   "outputs": [],
   "source": [
    "clouds_filter = tuple(['cc_total'])\n",
    "aerosol_filter = tuple(['AOD550_mean'])\n",
    "\n",
    "dataset_clouds = ect.ops.filter_dataset(dataset_clouds, clouds_filter)\n",
    "dataset_aerosol = ect.ops.filter_dataset(dataset_aerosol, aerosol_filter)"
   ]
  },
  {
   "cell_type": "code",
   "execution_count": null,
   "metadata": {
    "collapsed": false
   },
   "outputs": [],
   "source": [
    "print(dataset_clouds.dims)\n",
    "print(dataset_aerosol.dims)"
   ]
  },
  {
   "cell_type": "code",
   "execution_count": null,
   "metadata": {
    "collapsed": false
   },
   "outputs": [],
   "source": [
    "ect.ops.harmonize([dataset_clouds, dataset_aerosol])"
   ]
  },
  {
   "cell_type": "code",
   "execution_count": null,
   "metadata": {
    "collapsed": false
   },
   "outputs": [],
   "source": [
    "print(dataset_clouds.dims)\n",
    "print(dataset_aerosol.dims)"
   ]
  },
  {
   "cell_type": "markdown",
   "metadata": {},
   "source": [
    "Plot the first time slice of the dataset"
   ]
  },
  {
   "cell_type": "code",
   "execution_count": null,
   "metadata": {
    "collapsed": false
   },
   "outputs": [],
   "source": [
    "%matplotlib inline\n",
    "ect.ops.plot_map(dataset_clouds, variable='cc_total', time=0, path='/home/ccitbx/Desktop/fig1.png')"
   ]
  },
  {
   "cell_type": "code",
   "execution_count": null,
   "metadata": {
    "collapsed": false
   },
   "outputs": [],
   "source": [
    "ect.ops.plot_map(dataset_aerosol, variable='AOD550_mean', time=0, path='/home/ccitbx/Desktop/fig2.png')"
   ]
  },
  {
   "cell_type": "markdown",
   "metadata": {},
   "source": [
    "Co-register datasets by resampling\n",
    "----------------------------------"
   ]
  },
  {
   "cell_type": "code",
   "execution_count": null,
   "metadata": {
    "collapsed": true
   },
   "outputs": [],
   "source": [
    "dataset_aerosol = ect.ops.coregister(dataset_clouds, dataset_aerosol, 'bilinear')"
   ]
  },
  {
   "cell_type": "code",
   "execution_count": null,
   "metadata": {
    "collapsed": false
   },
   "outputs": [],
   "source": [
    "print(dataset_clouds.dims)\n",
    "print(dataset_aerosol.dims)"
   ]
  },
  {
   "cell_type": "code",
   "execution_count": null,
   "metadata": {
    "collapsed": false
   },
   "outputs": [],
   "source": [
    "ect.ops.plot_map(dataset_aerosol, variable='AOD550_mean', time=0, path='/home/ccitbx/Desktop/fig3.png')"
   ]
  },
  {
   "cell_type": "markdown",
   "metadata": {},
   "source": [
    "Select the desired spatial region\n",
    "---------------------------------"
   ]
  },
  {
   "cell_type": "code",
   "execution_count": null,
   "metadata": {
    "collapsed": false
   },
   "outputs": [],
   "source": [
    "dataset_aerosol = ect.ops.subset_spatial(dataset_aerosol, lat=[-40.,40.], lon=[-20.,60.])\n",
    "dataset_clouds = ect.ops.subset_spatial(dataset_clouds, lat=[-40.,40.], lon=[-20.,60.])"
   ]
  },
  {
   "cell_type": "code",
   "execution_count": null,
   "metadata": {
    "collapsed": false
   },
   "outputs": [],
   "source": [
    "print(dataset_clouds.dims)\n",
    "print(dataset_aerosol.dims)"
   ]
  },
  {
   "cell_type": "code",
   "execution_count": null,
   "metadata": {
    "collapsed": false
   },
   "outputs": [],
   "source": [
    "ect.ops.plot_map(dataset_clouds, variable='cc_total', time=0, path='/home/ccitbx/Desktop/fig4.png')"
   ]
  },
  {
   "cell_type": "code",
   "execution_count": null,
   "metadata": {
    "collapsed": false
   },
   "outputs": [],
   "source": [
    "ect.ops.plot_map(dataset_clouds, variable='cc_total', time=0, \n",
    "                 extents=[-20., 60., -40., 40.], path='/home/ccitbx/Desktop/fig5.png')"
   ]
  },
  {
   "cell_type": "markdown",
   "metadata": {},
   "source": [
    "Select the desired temporal region\n",
    "----------------------------------"
   ]
  },
  {
   "cell_type": "code",
   "execution_count": null,
   "metadata": {
    "collapsed": false
   },
   "outputs": [],
   "source": [
    "dataset_aerosol = ect.ops.subset_temporal_index(dataset_aerosol, time=[0,10])\n",
    "dataset_clouds = ect.ops.subset_temporal_index(dataset_clouds, time=[0,10])"
   ]
  },
  {
   "cell_type": "code",
   "execution_count": null,
   "metadata": {
    "collapsed": false
   },
   "outputs": [],
   "source": [
    "print(dataset_clouds.dims)\n",
    "print(dataset_aerosol.dims)"
   ]
  },
  {
   "cell_type": "code",
   "execution_count": null,
   "metadata": {
    "collapsed": false
   },
   "outputs": [],
   "source": [
    "print(dataset_clouds.time)\n",
    "print(dataset_aerosol.time)"
   ]
  },
  {
   "cell_type": "markdown",
   "metadata": {},
   "source": [
    "Retrieve and plot timeseries\n",
    "----------------------------"
   ]
  },
  {
   "cell_type": "code",
   "execution_count": null,
   "metadata": {
    "collapsed": false
   },
   "outputs": [],
   "source": [
    "timeseries_aerosol_point = ect.ops.timeseries(dataset_aerosol, lat=50., lon=50.)\n",
    "timeseries_clouds_point = ect.ops.timeseries(dataset_clouds, lat=50., lon=50.)\n",
    "timeseries_aerosol_mean = ect.ops.timeseries_mean(dataset_aerosol)\n",
    "timeseries_clouds_mean = ect.ops.timeseries_mean(dataset_clouds)"
   ]
  },
  {
   "cell_type": "code",
   "execution_count": null,
   "metadata": {
    "collapsed": false
   },
   "outputs": [],
   "source": [
    "print(timeseries_aerosol_mean)\n",
    "print(timeseries_clouds_mean)"
   ]
  },
  {
   "cell_type": "code",
   "execution_count": null,
   "metadata": {
    "collapsed": false
   },
   "outputs": [],
   "source": [
    "import matplotlib.pyplot as plt\n",
    "fig = plt.figure()\n",
    "plt.plot(timeseries_aerosol_mean['AOD550_mean'].data)"
   ]
  },
  {
   "cell_type": "code",
   "execution_count": null,
   "metadata": {
    "collapsed": false
   },
   "outputs": [],
   "source": [
    "plt.plot(timeseries_clouds_mean['cc_total'].data)"
   ]
  },
  {
   "cell_type": "markdown",
   "metadata": {},
   "source": [
    "Do correlation analysis\n",
    "-----------------------"
   ]
  },
  {
   "cell_type": "code",
   "execution_count": null,
   "metadata": {
    "collapsed": false
   },
   "outputs": [],
   "source": [
    "correlation = ect.ops.pearson_correlation(timeseries_clouds_mean, timeseries_aerosol_mean, \n",
    "                                          path=\"/home/ccitbx/Desktop/a.txt\")\n",
    "correlation"
   ]
  },
  {
   "cell_type": "markdown",
   "metadata": {},
   "source": [
    "Create a scatter plot\n",
    "---------------------------------"
   ]
  }
 ],
 "metadata": {
  "kernelspec": {
   "display_name": "Python 3",
   "language": "python",
   "name": "python3"
  },
  "language_info": {
   "codemirror_mode": {
    "name": "ipython",
    "version": 3
   },
   "file_extension": ".py",
   "mimetype": "text/x-python",
   "name": "python",
   "nbconvert_exporter": "python",
   "pygments_lexer": "ipython3",
   "version": "3.5.0rc4"
  }
 },
 "nbformat": 4,
 "nbformat_minor": 0
}
